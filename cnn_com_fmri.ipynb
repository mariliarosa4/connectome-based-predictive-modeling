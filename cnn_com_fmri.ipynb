{
 "metadata": {
  "language_info": {
   "codemirror_mode": {
    "name": "ipython",
    "version": 3
   },
   "file_extension": ".py",
   "mimetype": "text/x-python",
   "name": "python",
   "nbconvert_exporter": "python",
   "pygments_lexer": "ipython3",
   "version": 3
  },
  "orig_nbformat": 2
 },
 "nbformat": 4,
 "nbformat_minor": 2,
 "cells": [
  {
   "cell_type": "code",
   "execution_count": null,
   "metadata": {},
   "outputs": [],
   "source": [
    "import glob\n",
    "import nibabel as nb\n",
    "from nilearn.glm import threshold_stats_img\n",
    "from nilearn import plotting"
   ]
  },
  {
   "cell_type": "code",
   "execution_count": null,
   "metadata": {},
   "outputs": [],
   "source": [
    "path = \"/home/marilia/Área de Trabalho/dados_acerta/SELECTED_FILES/AMBAC_nii_stats/visit1/\"\n",
    "niiAMBACFiles = []\n",
    "niiAMBACImages = []\n",
    "for file in glob.glob(path + \"*.nii\"):\n",
    "    niiAMBACFiles.append(file)\n",
    "    img = nb.load(file)\n",
    "    niiAMBACImages.append(img)"
   ]
  },
  {
   "cell_type": "code",
   "execution_count": null,
   "metadata": {},
   "outputs": [],
   "source": [
    "novo_train =  niiAMBACImages[0].slicer[:,:,:,:,0].get_fdata()\n",
    "for subject in niiAMBACImages:\n",
    "    # print(subject.slicer[:,:,:,:,0].shape)\n",
    "    novo_train = np.append(novo_train, subject.slicer[:,:,:,:,0].get_fdata(), axis=-1)"
   ]
  }
 ]
}