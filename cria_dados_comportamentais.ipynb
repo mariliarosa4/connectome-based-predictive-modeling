{
 "cells": [
  {
   "cell_type": "code",
   "execution_count": 1,
   "metadata": {},
   "outputs": [],
   "source": [
    "import numpy\n",
    "import glob\n",
    "import pandas as pd \n"
   ]
  },
  {
   "cell_type": "code",
   "execution_count": 2,
   "metadata": {},
   "outputs": [
    {
     "name": "stdout",
     "output_type": "stream",
     "text": [
      "['AMBAC043', 'AMBAC038', 'AMBAC002', 'AMBAC026', 'AMBAC027', 'AMBAC078', 'AMBAC025', 'AMBAC059', 'AMBAC037', 'AMBAC098', 'AMBAC076', 'AMBAC072', 'AMBAC038', 'AMBAC085', 'AMBAC081', 'AMBAC034', 'AMBAC093', 'AMBAC092', 'AMBAC029', 'AMBAC067', 'AMBAC095', 'AMBAC057', 'AMBAC010', 'AMBAC070', 'AMBAC035', 'AMBAC033', 'AMBAC011', 'AMBAC054', 'AMBAC035', 'AMBAC077', 'AMBAC063', 'AMBAC020', 'AMBAC023', 'AMBAC030', 'AMBAC030', 'AMBAC062', 'AMBAC091', 'AMBAC012', 'AMBAC099', 'AMBAC036', 'AMBAC087', 'AMBAC064', 'AMBAC068', 'AMBAC088', 'AMBAC066', 'AMBAC073', 'AMBAC019', 'AMBAC009', 'AMBAC090', 'AMBAC069', 'AMBAC043', 'AMBAC083', 'AMBAC036', 'AMBAC033', 'AMBAC079', 'AMBAC006', 'AMBAC055', 'AMBAC016', 'AMBAC015', 'AMBAC007', 'AMBAC096', 'AMBAC018', 'AMBAC086', 'AMBAC037', 'AMBAC005', 'AMBAC082', 'AMBAC075', 'AMBAC031', 'AMBAC029', 'AMBAC060', 'AMBAC018', 'AMBAC017', 'AMBAC056', 'AMBAC022', 'AMBAC089', 'AMBAC101', 'AMBAC021', 'AMBAC071', 'AMBAC094', 'AMBAC024', 'AMBAC028']\n"
     ]
    }
   ],
   "source": [
    "path = \"/home/dbserver/Desktop/dados_acerta/SELECTED_FILES/AMBAC_nii/visit1/\"\n",
    "niiAMBACSubjects = []\n",
    "sub = \"AMBAC\"\n",
    "for file in glob.glob(path + \"*.nii\"):\n",
    "    arrayFileSplit = file.split(\".\")\n",
    "    del arrayFileSplit[0]\n",
    "    subject = next((s for s in arrayFileSplit if sub in s), None) # returns 'AMBAC070' por exemplo\n",
    "    niiAMBACSubjects.append(subject)\n",
    "\n",
    "print(niiAMBACSubjects)"
   ]
  },
  {
   "cell_type": "code",
   "execution_count": 3,
   "metadata": {},
   "outputs": [],
   "source": [
    "niiAMBACSubjects = set(niiAMBACSubjects)"
   ]
  },
  {
   "cell_type": "code",
   "execution_count": 4,
   "metadata": {},
   "outputs": [],
   "source": [
    "pd.DataFrame(sorted(niiAMBACSubjects)).to_csv(\"AMBAC_subjects.csv\")"
   ]
  }
 ],
 "metadata": {
  "kernelspec": {
   "display_name": "Python 3",
   "language": "python",
   "name": "python3"
  },
  "language_info": {
   "codemirror_mode": {
    "name": "ipython",
    "version": 3
   },
   "file_extension": ".py",
   "mimetype": "text/x-python",
   "name": "python",
   "nbconvert_exporter": "python",
   "pygments_lexer": "ipython3",
   "version": "3.8.5"
  }
 },
 "nbformat": 4,
 "nbformat_minor": 4
}
