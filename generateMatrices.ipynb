{
 "cells": [
  {
   "cell_type": "code",
   "execution_count": 19,
   "metadata": {},
   "outputs": [],
   "source": [
    "from nilearn.connectome import ConnectivityMeasure\n",
    "import numpy\n",
    "from nilearn import datasets\n",
    "from nilearn.input_data import NiftiLabelsMasker\n",
    "import glob\n"
   ]
  },
  {
   "cell_type": "code",
   "execution_count": 26,
   "metadata": {
    "colab": {
     "base_uri": "https://localhost:8080/"
    },
    "id": "6k2C8Sw8xTjs",
    "outputId": "17200be8-bdf1-4541-9fe9-13e50673252c"
   },
   "outputs": [],
   "source": [
    "atlas = datasets.fetch_atlas_aal()\n",
    "# Loading atlas image stored in 'maps'\n",
    "atlas_filename = atlas['maps']\n",
    "# # Loading atlas data stored in 'labels'\n",
    "# networks = atlas['networks']\n",
    "labels = atlas['labels']\n",
    "# from nilearn.image import high_variance_confounds\n",
    "# confounds = pd.DataFrame(high_variance_confounds(fmri_img, percentile=1))"
   ]
  },
  {
   "cell_type": "code",
   "execution_count": 27,
   "metadata": {
    "colab": {
     "base_uri": "https://localhost:8080/"
    },
    "id": "mdLEx0TUxWTD",
    "outputId": "4ef6db5d-9499-451c-cfdc-b8da087e18c6"
   },
   "outputs": [],
   "source": [
    "masker = NiftiLabelsMasker(labels_img=atlas_filename, standardize=True, verbose=0)"
   ]
  },
  {
   "cell_type": "code",
   "execution_count": 28,
   "metadata": {},
   "outputs": [],
   "source": [
    "path = \"/home/dbserver/Desktop/dados_acerta/SELECTED_FILES/AMBAC_nii/visit1/\"\n",
    "niiAMBACFiles = []\n",
    "niiAMBACTimesSeries = dict()\n",
    "for file in glob.glob(path + \"*.nii\"):\n",
    "    niiAMBACFiles.append(file)\n",
    "    niiAMBACTimesSeries[file] = masker.fit_transform(file)"
   ]
  },
  {
   "cell_type": "code",
   "execution_count": 29,
   "metadata": {
    "colab": {
     "base_uri": "https://localhost:8080/"
    },
    "id": "mYESR9qDxYGF",
    "outputId": "23b9baea-57cc-4c2e-eb32-106b4da77a94"
   },
   "outputs": [],
   "source": [
    "sub = 'AMBAC'\n",
    "for fileName, time_serie in niiAMBACTimesSeries.items():\n",
    "    correlation_measure = ConnectivityMeasure(kind='correlation')\n",
    "    correlation_matrix = correlation_measure.fit_transform([time_serie])[0]\n",
    "    arrayFileSplit = fileName.split(\".\")\n",
    "    del arrayFileSplit[0]\n",
    "    subject = next((s for s in arrayFileSplit if sub in s), None) # returns 'AMBAC070' por exemplo\n",
    "    numpy.savetxt('correlation_matrix/'+str(subject)+'.txt', correlation_matrix, delimiter = ',')  "
   ]
  }
 ],
 "metadata": {
  "colab": {
   "name": "Teste de analise de neuroimagem com nilearn",
   "provenance": []
  },
  "kernelspec": {
   "display_name": "Python 3",
   "language": "python",
   "name": "python3"
  },
  "language_info": {
   "codemirror_mode": {
    "name": "ipython",
    "version": 3
   },
   "file_extension": ".py",
   "mimetype": "text/x-python",
   "name": "python",
   "nbconvert_exporter": "python",
   "pygments_lexer": "ipython3",
   "version": "3.8.5"
  }
 },
 "nbformat": 4,
 "nbformat_minor": 1
}