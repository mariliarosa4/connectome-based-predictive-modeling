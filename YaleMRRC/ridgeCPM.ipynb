{
 "cells": [
  {
   "cell_type": "code",
   "execution_count": 1,
   "metadata": {
    "collapsed": false
   },
   "outputs": [],
   "source": [
    "from sklearn.linear_model import Ridge\n",
    "from sklearn.model_selection import GridSearchCV\n",
    "from sklearn.model_selection import cross_val_predict\n",
    "from sklearn.model_selection import cross_val_score\n",
    "from sklearn.model_selection import KFold\n",
    "from sklearn.model_selection import RepeatedKFold\n",
    "from sklearn.model_selection import PredefinedSplit\n",
    "from sklearn.feature_selection import SelectPercentile\n",
    "from sklearn.feature_selection import f_regression\n",
    "from sklearn.pipeline import Pipeline\n",
    "from sklearn import metrics\n",
    "\n",
    "import numpy as np\n",
    "import scipy.io as sio\n",
    "import h5py\n",
    "\n",
    "import time"
   ]
  },
  {
   "cell_type": "markdown",
   "metadata": {},
   "source": [
    "## Prepare the data"
   ]
  },
  {
   "cell_type": "markdown",
   "metadata": {},
   "source": [
    "config the path to data"
   ]
  },
  {
   "cell_type": "code",
   "execution_count": 21,
   "metadata": {
    "collapsed": false
   },
   "outputs": [],
   "source": [
    "all_mats_dir = '/home/marilia/Área de Trabalho/dados_acerta/projeto-cpm/matlab_matrix.mat'\n",
    "# all_behav_dir = '/Users/siyuangao/Working_Space/fmri/data/HCP515/all_behav.mat'"
   ]
  },
  {
   "cell_type": "code",
   "execution_count": 23,
   "metadata": {
    "collapsed": false
   },
   "outputs": [
    {
     "output_type": "error",
     "ename": "OSError",
     "evalue": "Unable to open file (file signature not found)",
     "traceback": [
      "\u001b[0;31m---------------------------------------------------------------------------\u001b[0m",
      "\u001b[0;31mOSError\u001b[0m                                   Traceback (most recent call last)",
      "\u001b[0;32m<ipython-input-23-2c7817d223c1>\u001b[0m in \u001b[0;36m<module>\u001b[0;34m\u001b[0m\n\u001b[1;32m      2\u001b[0m \u001b[0;31m# f = mat.loadmat(all_mats_dir)\u001b[0m\u001b[0;34m\u001b[0m\u001b[0;34m\u001b[0m\u001b[0;34m\u001b[0m\u001b[0m\n\u001b[1;32m      3\u001b[0m \u001b[0;34m\u001b[0m\u001b[0m\n\u001b[0;32m----> 4\u001b[0;31m \u001b[0mfile_temp\u001b[0m \u001b[0;34m=\u001b[0m \u001b[0mh5py\u001b[0m\u001b[0;34m.\u001b[0m\u001b[0mFile\u001b[0m\u001b[0;34m(\u001b[0m\u001b[0mall_mats_dir\u001b[0m\u001b[0;34m,\u001b[0m \u001b[0;34m'r'\u001b[0m\u001b[0;34m)\u001b[0m \u001b[0;31m# this deals with -v7.3 .mat file\u001b[0m\u001b[0;34m\u001b[0m\u001b[0;34m\u001b[0m\u001b[0m\n\u001b[0m\u001b[1;32m      5\u001b[0m \u001b[0mall_mats\u001b[0m \u001b[0;34m=\u001b[0m \u001b[0mfile_temp\u001b[0m\u001b[0;34m[\u001b[0m\u001b[0;34m'all_mats'\u001b[0m\u001b[0;34m]\u001b[0m \u001b[0;31m# all_mats here is assumed to be node*node*sub*task\u001b[0m\u001b[0;34m\u001b[0m\u001b[0;34m\u001b[0m\u001b[0m\n\u001b[1;32m      6\u001b[0m \u001b[0mall_mats\u001b[0m \u001b[0;34m=\u001b[0m \u001b[0mnp\u001b[0m\u001b[0;34m.\u001b[0m\u001b[0marray\u001b[0m\u001b[0;34m(\u001b[0m\u001b[0mall_mats\u001b[0m\u001b[0;34m)\u001b[0m\u001b[0;34m\u001b[0m\u001b[0;34m\u001b[0m\u001b[0m\n",
      "\u001b[0;32m~/.local/lib/python3.6/site-packages/h5py/_hl/files.py\u001b[0m in \u001b[0;36m__init__\u001b[0;34m(self, name, mode, driver, libver, userblock_size, swmr, rdcc_nslots, rdcc_nbytes, rdcc_w0, track_order, **kwds)\u001b[0m\n\u001b[1;32m    406\u001b[0m                 fid = make_fid(name, mode, userblock_size,\n\u001b[1;32m    407\u001b[0m                                \u001b[0mfapl\u001b[0m\u001b[0;34m,\u001b[0m \u001b[0mfcpl\u001b[0m\u001b[0;34m=\u001b[0m\u001b[0mmake_fcpl\u001b[0m\u001b[0;34m(\u001b[0m\u001b[0mtrack_order\u001b[0m\u001b[0;34m=\u001b[0m\u001b[0mtrack_order\u001b[0m\u001b[0;34m)\u001b[0m\u001b[0;34m,\u001b[0m\u001b[0;34m\u001b[0m\u001b[0;34m\u001b[0m\u001b[0m\n\u001b[0;32m--> 408\u001b[0;31m                                swmr=swmr)\n\u001b[0m\u001b[1;32m    409\u001b[0m \u001b[0;34m\u001b[0m\u001b[0m\n\u001b[1;32m    410\u001b[0m             \u001b[0;32mif\u001b[0m \u001b[0misinstance\u001b[0m\u001b[0;34m(\u001b[0m\u001b[0mlibver\u001b[0m\u001b[0;34m,\u001b[0m \u001b[0mtuple\u001b[0m\u001b[0;34m)\u001b[0m\u001b[0;34m:\u001b[0m\u001b[0;34m\u001b[0m\u001b[0;34m\u001b[0m\u001b[0m\n",
      "\u001b[0;32m~/.local/lib/python3.6/site-packages/h5py/_hl/files.py\u001b[0m in \u001b[0;36mmake_fid\u001b[0;34m(name, mode, userblock_size, fapl, fcpl, swmr)\u001b[0m\n\u001b[1;32m    171\u001b[0m         \u001b[0;32mif\u001b[0m \u001b[0mswmr\u001b[0m \u001b[0;32mand\u001b[0m \u001b[0mswmr_support\u001b[0m\u001b[0;34m:\u001b[0m\u001b[0;34m\u001b[0m\u001b[0;34m\u001b[0m\u001b[0m\n\u001b[1;32m    172\u001b[0m             \u001b[0mflags\u001b[0m \u001b[0;34m|=\u001b[0m \u001b[0mh5f\u001b[0m\u001b[0;34m.\u001b[0m\u001b[0mACC_SWMR_READ\u001b[0m\u001b[0;34m\u001b[0m\u001b[0;34m\u001b[0m\u001b[0m\n\u001b[0;32m--> 173\u001b[0;31m         \u001b[0mfid\u001b[0m \u001b[0;34m=\u001b[0m \u001b[0mh5f\u001b[0m\u001b[0;34m.\u001b[0m\u001b[0mopen\u001b[0m\u001b[0;34m(\u001b[0m\u001b[0mname\u001b[0m\u001b[0;34m,\u001b[0m \u001b[0mflags\u001b[0m\u001b[0;34m,\u001b[0m \u001b[0mfapl\u001b[0m\u001b[0;34m=\u001b[0m\u001b[0mfapl\u001b[0m\u001b[0;34m)\u001b[0m\u001b[0;34m\u001b[0m\u001b[0;34m\u001b[0m\u001b[0m\n\u001b[0m\u001b[1;32m    174\u001b[0m     \u001b[0;32melif\u001b[0m \u001b[0mmode\u001b[0m \u001b[0;34m==\u001b[0m \u001b[0;34m'r+'\u001b[0m\u001b[0;34m:\u001b[0m\u001b[0;34m\u001b[0m\u001b[0;34m\u001b[0m\u001b[0m\n\u001b[1;32m    175\u001b[0m         \u001b[0mfid\u001b[0m \u001b[0;34m=\u001b[0m \u001b[0mh5f\u001b[0m\u001b[0;34m.\u001b[0m\u001b[0mopen\u001b[0m\u001b[0;34m(\u001b[0m\u001b[0mname\u001b[0m\u001b[0;34m,\u001b[0m \u001b[0mh5f\u001b[0m\u001b[0;34m.\u001b[0m\u001b[0mACC_RDWR\u001b[0m\u001b[0;34m,\u001b[0m \u001b[0mfapl\u001b[0m\u001b[0;34m=\u001b[0m\u001b[0mfapl\u001b[0m\u001b[0;34m)\u001b[0m\u001b[0;34m\u001b[0m\u001b[0;34m\u001b[0m\u001b[0m\n",
      "\u001b[0;32mh5py/_objects.pyx\u001b[0m in \u001b[0;36mh5py._objects.with_phil.wrapper\u001b[0;34m()\u001b[0m\n",
      "\u001b[0;32mh5py/_objects.pyx\u001b[0m in \u001b[0;36mh5py._objects.with_phil.wrapper\u001b[0;34m()\u001b[0m\n",
      "\u001b[0;32mh5py/h5f.pyx\u001b[0m in \u001b[0;36mh5py.h5f.open\u001b[0;34m()\u001b[0m\n",
      "\u001b[0;31mOSError\u001b[0m: Unable to open file (file signature not found)"
     ]
    }
   ],
   "source": [
    "# import mat4py as mat\n",
    "# f = mat.loadmat(all_mats_dir)\n",
    "\n",
    "file_temp = h5py.File(all_mats_dir, 'r') # this deals with -v7.3 .mat file\n",
    "all_mats = file_temp['all_mats'] # all_mats here is assumed to be node*node*sub*task\n",
    "all_mats = np.array(all_mats)\n",
    "all_mats = np.transpose(all_mats,(3, 2, 1, 0))\n",
    "\n",
    "file_temp = sio.loadmat(all_behav_dir)\n",
    "all_behav = file_temp['all_behav']\n",
    "all_behav = np.reshape(all_behav, (-1,)) # convert all_behav to (num_sub, ) to remove the warning when testing the model\n",
    "\n",
    "print(np.shape(all_mats))"
   ]
  },
  {
   "cell_type": "markdown",
   "metadata": {},
   "source": [
    "remove missing nodes"
   ]
  },
  {
   "cell_type": "code",
   "execution_count": 4,
   "metadata": {
    "collapsed": false
   },
   "outputs": [],
   "source": [
    "missing_nodes = np.array([249, 239, 243, 129, 266, 109, 115, 118, 250]) - 1\n",
    "all_mats = np.delete(all_mats, missing_nodes, 0)\n",
    "all_mats = np.delete(all_mats, missing_nodes, 1)"
   ]
  },
  {
   "cell_type": "markdown",
   "metadata": {},
   "source": [
    "get the task subset"
   ]
  },
  {
   "cell_type": "code",
   "execution_count": 5,
   "metadata": {
    "collapsed": false
   },
   "outputs": [],
   "source": [
    "task_subset = [0, 3, 4, 5, 6, 7, 8]\n",
    "all_mats = all_mats[:, :, :, task_subset]"
   ]
  },
  {
   "cell_type": "code",
   "execution_count": 6,
   "metadata": {
    "collapsed": false
   },
   "outputs": [],
   "source": [
    "num_node = np.shape(all_mats)[0]\n",
    "num_sub = np.shape(all_mats)[2]\n",
    "num_task = np.shape(all_mats)[3]\n",
    "num_edge = num_node * (num_node-1) // 2\n",
    "num_edge_total = num_edge * num_task"
   ]
  },
  {
   "cell_type": "markdown",
   "metadata": {},
   "source": [
    "vectorize the matrix to edge vector"
   ]
  },
  {
   "cell_type": "code",
   "execution_count": 7,
   "metadata": {
    "collapsed": false
   },
   "outputs": [],
   "source": [
    "all_edges = np.zeros([num_edge, num_sub, num_task])\n",
    "iu1 = np.triu_indices(num_node, 1)\n",
    "for i in range(num_sub):\n",
    "    for j in range(num_task):\n",
    "            all_edges[:, i, j] = all_mats[iu1[0], iu1[1], i, j]\n",
    "all_edges = np.transpose(all_edges, (2, 0, 1))\n",
    "all_edges = np.reshape(all_edges, [-1, num_sub])"
   ]
  },
  {
   "cell_type": "markdown",
   "metadata": {},
   "source": [
    "data size"
   ]
  },
  {
   "cell_type": "code",
   "execution_count": 8,
   "metadata": {
    "collapsed": false
   },
   "outputs": [
    {
     "name": "stdout",
     "output_type": "stream",
     "text": [
      "(233877, 515)\n",
      "(515,)\n"
     ]
    }
   ],
   "source": [
    "print(all_edges.shape)\n",
    "print(all_behav.shape)"
   ]
  },
  {
   "cell_type": "markdown",
   "metadata": {},
   "source": [
    "# cross-validation on the model specified"
   ]
  },
  {
   "cell_type": "markdown",
   "metadata": {},
   "source": [
    "model parameter"
   ]
  },
  {
   "cell_type": "code",
   "execution_count": 35,
   "metadata": {
    "collapsed": true
   },
   "outputs": [],
   "source": [
    "pct = 0.1 # percent of edges kept in feature selection\n",
    "alphas = 10**np.linspace(10,-2,100)*0.5 # specify alphas to search"
   ]
  },
  {
   "cell_type": "markdown",
   "metadata": {},
   "source": [
    "ridgeCPM pipeline"
   ]
  },
  {
   "cell_type": "code",
   "execution_count": 36,
   "metadata": {
    "collapsed": false
   },
   "outputs": [],
   "source": [
    "rg_grid = GridSearchCV(Ridge(normalize=False), cv=10, param_grid={'alpha':alphas}, iid=False)\n",
    "\n",
    "reg = Pipeline([\n",
    "  ('feature_selection', SelectPercentile(f_regression, percentile=pct)),\n",
    "  ('regression', rg_grid)\n",
    "])\n",
    "\n",
    "cv10 = KFold(n_splits=10, random_state=665)\n",
    "# rpcv10 = RepeatedKFold(n_splits=3,n_repeats=3, random_state=665) # repeated kfolds"
   ]
  },
  {
   "cell_type": "markdown",
   "metadata": {},
   "source": [
    "actually run the model\n",
    "\n",
    "n_jobs specify how many cpus to use"
   ]
  },
  {
   "cell_type": "code",
   "execution_count": 38,
   "metadata": {
    "collapsed": false
   },
   "outputs": [
    {
     "name": "stdout",
     "output_type": "stream",
     "text": [
      "63.56466507911682\n"
     ]
    }
   ],
   "source": [
    "start = time.time() # time the function\n",
    "all_pred = cross_val_predict(reg, all_edges.T, all_behav, cv=cv10, n_jobs=4)\n",
    "# all_score = cross_val_score(reg, all_edges.T, all_behav, cv=rpcv10, n_jobs=1) # repeated kfolds\n",
    "end = time.time()\n",
    "print(end - start) # print function running time"
   ]
  },
  {
   "cell_type": "markdown",
   "metadata": {},
   "source": [
    "calculate $r_{pearson}$"
   ]
  },
  {
   "cell_type": "code",
   "execution_count": 20,
   "metadata": {
    "collapsed": false
   },
   "outputs": [
    {
     "name": "stdout",
     "output_type": "stream",
     "text": [
      "0.35748236279252066\n"
     ]
    }
   ],
   "source": [
    "print(np.corrcoef(all_pred.T, all_behav.T)[0, 1])"
   ]
  },
  {
   "cell_type": "markdown",
   "metadata": {},
   "source": [
    "$\\sqrt{R^2_CV}$"
   ]
  },
  {
   "cell_type": "code",
   "execution_count": 29,
   "metadata": {
    "collapsed": false
   },
   "outputs": [
    {
     "name": "stdout",
     "output_type": "stream",
     "text": [
      "0.32447572830356003\n"
     ]
    }
   ],
   "source": [
    "print(np.sqrt(1-sum((all_pred-all_behav)**2)/sum((all_behav-np.mean(all_behav))**2)))"
   ]
  },
  {
   "cell_type": "markdown",
   "metadata": {},
   "source": [
    "prediction value"
   ]
  },
  {
   "cell_type": "code",
   "execution_count": 30,
   "metadata": {
    "collapsed": true
   },
   "outputs": [
    {
     "name": "stdout",
     "output_type": "stream",
     "text": [
      "[20.03525739 15.90117497 15.03081482 18.46382109 14.17526729 17.64310324\n",
      " 17.58901274 17.73034345 18.49797281 16.79043392 18.27437123 16.67557594\n",
      " 22.88498476 23.1190766  18.81550042 15.68032845 15.97972081 19.96044685\n",
      " 19.13332332 18.4704561  18.67846594 22.33777777 17.3352461  16.46982015\n",
      " 12.64962264 12.39842116 17.62353429 21.48962885 19.40773916 15.0545446\n",
      " 16.51471586 14.41225957 20.45695746 19.78434082 15.78096675 17.42646539\n",
      " 20.9865226  16.58951984 18.87677541 15.1536608  18.46408798 15.66404946\n",
      " 16.07909494 18.4802629  16.04743349 15.01889166 18.19052867 12.2435229\n",
      " 15.00114537 21.82317657 17.00633924 15.71616336 19.57276883 15.85589195\n",
      " 18.23546357 21.10437257 18.58829871 16.21936743 13.67410831 13.67119696\n",
      " 15.09569609 16.24075323 20.62751228 18.26220947 19.05424565 13.41354428\n",
      " 20.52551669 16.44259875 18.79561997 16.49914302 18.35991186 18.43281382\n",
      " 16.97333867 15.58414593 18.07898256 18.83760181 23.12626833 18.63136855\n",
      " 15.64890149 14.31566541 19.45004092 19.81222772 15.99958597 19.97477752\n",
      " 16.74380994 14.76877597 18.74485846 17.81355485 15.93312144 16.80463888\n",
      " 16.37100856 17.28796495 19.00163156 16.71073493 13.64885655 17.56264774\n",
      " 18.32740917 17.32053568 17.31084856 16.19140585 16.82085025 17.32542225\n",
      " 19.75522038 20.15554832 17.3715739  18.90659556 18.37962435 18.92643489\n",
      " 18.03921017 17.16483511 17.44996534 14.28287535 21.43974642 15.90679074\n",
      " 17.62631797 16.18213521 17.9215895  18.74674169 16.22851994 21.86173984\n",
      " 16.00240519 17.88231649 14.84453462 16.84455513 20.42789249 23.0227935\n",
      " 17.26647639 15.85921579 15.95659617 18.37667525 13.81946363 19.74647943\n",
      " 14.88855878 16.94471844 21.3630998  14.23998626 19.94552017 20.12886074\n",
      " 14.34622543 18.46872989 19.71227743 18.13418794 18.10828271 14.57961822\n",
      " 15.41769767 19.05168128 13.79986077 13.72146595 15.93526711 20.32785305\n",
      " 13.12015362 19.91976691 14.32647966 17.80102827 18.5244666  19.65101207\n",
      " 15.11917848 18.62808802 19.34083996 21.29877704 20.54433358 17.00227201\n",
      " 19.90138885 19.29705358 14.9710511  15.14291522 17.31496124 18.53097773\n",
      " 21.10625067 17.82846536 15.14452211 14.867458   18.82277115 18.17569957\n",
      " 21.57335546 18.65169904 19.36829566 17.20695271 17.18331482 21.84390287\n",
      " 17.68785865 17.87558569 14.20917225 21.62413718 18.71323934 12.9016041\n",
      " 20.20612666 19.95483081 14.38368438 15.00780428 16.55462194 15.68921907\n",
      " 20.93899355 15.98373566 18.9837702  18.25056934 16.05629605 20.07996681\n",
      " 17.81513532 14.00944847 18.63496803 18.15776233 18.7898049  19.24719619\n",
      " 12.88564856 18.03103846 16.43430568 21.76747689 16.61702642 22.17595741\n",
      " 19.44317235 17.14400054 18.96319316 14.91557828 16.02710834 13.01729779\n",
      " 19.25002165 17.50075223 12.51947948 17.21793932 16.34605311 19.32198396\n",
      " 17.28081462 15.21769353 16.97803996 19.24603507 18.16614581 17.40136703\n",
      " 18.97733563 17.40496784 18.28009588 18.1902183  16.37888885 18.57231048\n",
      " 16.73111158 18.89374169 10.22516066 19.58191925 19.84765834 15.83989528\n",
      " 14.1591291  13.30384499 19.25202235 17.46727731 14.8465221  17.85291441\n",
      " 13.31961643 17.76238911 13.43451706 16.32895677 18.71129671 13.7523554\n",
      " 14.48099523 17.18938607 20.33010299 18.37876794 20.51495516 22.43663973\n",
      " 15.91990423 19.94729734 14.79836069 18.82205302 18.84929065 14.52829349\n",
      " 18.70156148 16.98651102 22.5620181  15.64549895 19.41071528 17.22514758\n",
      " 17.17430124 17.31904864 16.39666196 16.95822024 19.10515007 16.2418923\n",
      " 20.37617449 17.17095217 18.0717373  15.66815042 16.55565866 16.66866561\n",
      " 16.62595047 15.2716294  13.55859454 16.10560628 16.16631501 16.31273472\n",
      " 13.64734451 22.3555787  15.04322119 15.72094205 19.01181999 20.93396735\n",
      " 19.48068377 20.56618421 16.65887304 19.23081887 16.41503525 19.47350124\n",
      " 15.43431624 17.78034122 21.819857   17.44085413 17.98750283 15.24863183\n",
      " 19.56279151 21.03114888 16.49542709 21.4745496  13.56595261 21.50785213\n",
      " 16.68520327 14.77604643 16.45619634 17.21507382 16.00592886 17.28901807\n",
      " 17.07134686 19.75521389 16.99432032 18.77213112 24.02814944 15.01392642\n",
      " 21.23509093 19.43751859 18.06448252 15.12813485 14.5005026  19.37884777\n",
      " 14.6712545  16.52724369 18.38726182 17.9672304  16.66151961 16.83677622\n",
      " 18.9772581  16.38664292 16.64363239 16.60726606 16.46476634 16.25478536\n",
      " 16.73371182 16.42810273 21.45076213 15.54666209 15.74450231 17.98086879\n",
      " 19.09553138 19.96168009 13.36994827 16.43102665 16.43850414 15.51137394\n",
      " 18.92403257 18.57636667 20.13932508 15.99502639 19.47840345 18.86114119\n",
      " 14.68047363 17.97027204 18.31148793 16.84547139 21.92389534 16.86963898\n",
      " 15.84597756 20.54010836 16.93826433 18.30214959 16.36630123 16.06314712\n",
      " 16.99402359 16.10510067 13.57469168 12.7484266  16.76532973 18.24061217\n",
      " 16.70458848 19.14873511 19.12506498 17.49380138 17.09372717 14.89204333\n",
      " 12.76737113 16.08635377 17.72603469 16.29983901 23.82585602 16.02772043\n",
      " 17.14237596 16.39408664 21.51080585 18.55557313 17.18347134 18.42267924\n",
      " 14.762305   16.34875312 15.31799761 16.86283093 19.36892357 19.16759165\n",
      " 21.10368212 14.52445288 20.39005486 17.71277842 18.54363101 15.3446787\n",
      " 16.23818877 18.07689269 18.14778687 14.04746738 20.25515943 18.73018221\n",
      " 18.84537075 19.46718143 17.08328294 18.21506537 20.62580439 15.44929979\n",
      " 21.35212465 18.35995982 15.6026078  15.02241704 14.65652148 20.11527151\n",
      " 14.34383758 16.54781324 18.66541332 19.53344494 19.46124536 17.59470301\n",
      " 16.79955531 19.38526133 20.44820826 20.24884848 17.68622491 17.28270247\n",
      " 17.63132101 19.78577215 16.29330948 17.50743863 18.84147432 16.65814536\n",
      " 16.14484081 17.12028745 15.01517951 16.04189458 15.94736279 19.01788578\n",
      " 14.33208264 19.25039128 16.01266579 20.54328538 16.43366717 19.45667696\n",
      " 19.46592969 18.28135253 21.49978998 18.31395564 21.32929691 17.45196821\n",
      " 19.02017356 20.27143523 16.68194567 20.80059839 19.11460218 16.00253494\n",
      " 20.72109058 13.37376875 15.61602309 21.28133489 18.10163691 16.8874933\n",
      " 17.32093519 16.71614382 17.51448746 15.33192432 15.64292349 13.87545484\n",
      " 17.58499819 16.18403684 15.4557978  13.1055834  17.13435243 18.56444748\n",
      " 20.13120043 18.32533511 17.52614899 18.42272115 14.40265021 16.28110033\n",
      " 14.66769437 14.27908487 15.12240561 16.51314145 16.53664754 15.37469377\n",
      " 20.67391778 21.52807962 20.19656616 13.55953749 18.3456753  18.22956999\n",
      " 19.26555126 15.94143526 18.679003   17.17744612 17.77847804 18.36060805\n",
      " 18.50246199 18.02942056 18.35035934 16.07413839 18.88983598]\n"
     ]
    }
   ],
   "source": [
    "print(all_pred)"
   ]
  },
  {
   "cell_type": "markdown",
   "metadata": {},
   "source": [
    "# Backup test code"
   ]
  },
  {
   "cell_type": "markdown",
   "metadata": {},
   "source": [
    "specify cv index for test only (optional)"
   ]
  },
  {
   "cell_type": "code",
   "execution_count": null,
   "metadata": {
    "collapsed": false
   },
   "outputs": [],
   "source": [
    "# cv_idx=[5,9,1,2,7,7,4,7,1,2,4,3,5,7,4,3,1,8,7,2,7,3,9,6,7,6,3,2,6,1,4,5,6,4,3,2,8,5,3,4,4,9,4,7,2,1,6,2,1,5,4,4,2,9,5,1,9,3,2,7,7,4,7,2,10,9,3,4,6,3,5,10,9,8,7,10,6,1,5,7,4,7,3,3,1,1,9,5,2,4,2,3,4,3,1,2,2,10,10,2,8,6,9,3,7,5,3,3,10,4,4,3,2,6,7,2,1,10,8,6,5,9,8,3,2,8,9,8,2,3,7,7,4,10,6,2,10,7,10,10,3,10,3,8,1,10,6,2,10,8,4,9,7,10,6,6,9,7,5,6,7,10,6,6,2,5,9,6,3,4,8,7,2,9,9,5,8,10,1,3,4,2,7,8,1,7,4,8,5,9,3,10,10,3,3,8,5,7,9,8,8,10,3,8,3,1,5,4,4,5,4,8,7,8,7,1,7,6,2,7,10,9,1,6,1,8,4,4,5,3,10,10,1,5,10,8,10,4,5,2,9,8,8,5,2,6,3,6,1,10,4,1,9,6,9,8,5,1,4,3,8,1,2,6,6,1,3,5,7,10,9,6,4,9,4,7,9,10,2,3,8,10,1,1,7,6,1,9,10,9,8,9,1,6,6,2,1,1,8,8,9,4,1,6,5,9,9,10,5,1,1,10,4,7,6,9,5,3,7,6,1,6,10,8,4,5,2,2,3,6,2,3,3,5,10,1,5,7,9,7,10,2,3,5,7,1,6,9,1,9,10,3,5,5,1,9,1,5,9,7,7,3,6,5,8,9,7,4,7,6,8,2,8,8,5,10,3,6,8,8,5,10,2,1,10,1,1,4,9,4,4,1,8,1,8,2,3,5,2,1,7,8,9,5,10,8,8,10,10,5,4,4,9,2,3,6,2,7,6,3,7,7,9,4,9,10,6,8,5,8,9,6,4,9,5,4,1,6,7,2,4,2,2,9,7,8,9,8,9,5,1,10,7,4,4,10,10,5,8,8,6,2,6,1,8,1,10,4,3,6,3,10,3,10,10,4,2,9,5,8,1,5,5,3,10,5,2,2,4,2,9,3,6,5,8,8,3,7,3,6,6,4,7,3,5,2,6,2,4,10,6,9,2,5,1]\n",
    "# cv_idx = [temp-1 for temp in cv_idx]\n",
    "# ps = PredefinedSplit(cv_idx)"
   ]
  }
 ],
 "metadata": {
  "kernelspec": {
   "display_name": "Python 3",
   "language": "python",
   "name": "python3"
  },
  "language_info": {
   "codemirror_mode": {
    "name": "ipython",
    "version": 3
   },
   "file_extension": ".py",
   "mimetype": "text/x-python",
   "name": "python",
   "nbconvert_exporter": "python",
   "pygments_lexer": "ipython3",
   "version": "3.8.5"
  }
 },
 "nbformat": 4,
 "nbformat_minor": 0
}