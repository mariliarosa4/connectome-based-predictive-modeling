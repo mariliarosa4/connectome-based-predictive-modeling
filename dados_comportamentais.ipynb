{
 "cells": [
  {
   "cell_type": "markdown",
   "metadata": {},
   "source": [
    "# Dependencias\n",
    "xlrd ==  1.2.0\n",
    "nilearn"
   ]
  },
  {
   "cell_type": "markdown",
   "metadata": {},
   "source": [
    "Os pacientes do AMBAC são disléxicos. Tem uns que não, mas dai eu posso compartilhar a tabela contigo e ali diz quais não são.\n",
    "No SCHOOLS, os participantes SCHB são bons leitores, os SCHM são maus leitores e os SCHR são os leitores regulares."
   ]
  },
  {
   "cell_type": "code",
   "execution_count": 1,
   "metadata": {},
   "outputs": [],
   "source": [
    "import pandas as pd\n",
    "import glob\n",
    "import os\n",
    "os.chdir('/home/marilia/Área de Trabalho/dados_acerta/projeto-cpm')\n"
   ]
  },
  {
   "cell_type": "markdown",
   "metadata": {},
   "source": [
    "## Lendo dados"
   ]
  },
  {
   "cell_type": "code",
   "execution_count": 2,
   "metadata": {},
   "outputs": [],
   "source": [
    "dfFmriAMBAC = pd.read_excel(\"Exames fMRI ACERTA.xlsx\",  header=2, sheet_name='Ambulatório ACERTA - MNI')\n",
    "\n",
    "dfFmriSchools = pd.read_excel(\"Exames fMRI ACERTA.xlsx\",  header=[0,1,2], sheet_name='SCHOOLS Scan - Dados Leitura')\n",
    "\n",
    "dfAmbac = pd.read_excel(\"AMBAC.xlsx\", header=2)\n",
    "\n",
    "dfSchools = pd.read_excel(\"SCHOOLS.xlsx\", header=[0,1,2])\n",
    "\n"
   ]
  },
  {
   "cell_type": "markdown",
   "metadata": {},
   "source": [
    "## AMBAC\n"
   ]
  },
  {
   "cell_type": "code",
   "execution_count": 3,
   "metadata": {},
   "outputs": [
    {
     "output_type": "execute_result",
     "data": {
      "text/plain": [
       "   fMRI participant #               Patient NAME Age   QI Protocol   Group  \\\n",
       "0                   1       Gregory Morais Pires  11  NaN    AMBAC  Dislex   \n",
       "1                   2  Estevão de Oliveira Guima  11  103    AMBAC  Dislex   \n",
       "2                   3        Guilherme Conceição  11  115    AMBAC  Dislex   \n",
       "3                   4                          -   -    -        -       -   \n",
       "4                   5     Livia Freitas Larroque   9  103    AMBAC  Dislex   \n",
       "\n",
       "                                         Comentários Processando?  \\\n",
       "0                                                NaN         done   \n",
       "1                                                NaN         done   \n",
       "2  Teve que realizar Imagem T1 duas vezes pq se m...         done   \n",
       "3                                                  -            -   \n",
       "4  Teve que realizar Imagem T1 duas vezes pq se m...         done   \n",
       "\n",
       "  num TRs above mot limit average motion (per TR)  ... Podemos usar? .1  \\\n",
       "0                     NaN                     NaN  ...              NaN   \n",
       "1                     NaN                     NaN  ...              NaN   \n",
       "2                     NaN                     NaN  ...              NaN   \n",
       "3                       -                       -  ...                -   \n",
       "4                     NaN                     NaN  ...              NaN   \n",
       "\n",
       "  Total.3 Processando?.4 num TRs above mot limit.4 average motion (per TR).4  \\\n",
       "0     NaN            NaN                       NaN                       NaN   \n",
       "1     NaN            NaN                       NaN                       NaN   \n",
       "2     NaN            NaN                       NaN                       NaN   \n",
       "3     NaN              -                         -                         -   \n",
       "4     NaN            NaN                       NaN                       NaN   \n",
       "\n",
       "  TRs Censored.3 registro anat X EPI.4 Ativação.3 Comentario .2  \\\n",
       "0            NaN                   NaN        NaN           NaN   \n",
       "1            NaN                   NaN        NaN           NaN   \n",
       "2            NaN                   NaN        NaN           NaN   \n",
       "3              -                     -          -             -   \n",
       "4            NaN                   NaN        NaN           NaN   \n",
       "\n",
       "  Podemos usar? .2  \n",
       "0              NaN  \n",
       "1              NaN  \n",
       "2              NaN  \n",
       "3                -  \n",
       "4              NaN  \n",
       "\n",
       "[5 rows x 52 columns]"
      ],
      "text/html": "<div>\n<style scoped>\n    .dataframe tbody tr th:only-of-type {\n        vertical-align: middle;\n    }\n\n    .dataframe tbody tr th {\n        vertical-align: top;\n    }\n\n    .dataframe thead th {\n        text-align: right;\n    }\n</style>\n<table border=\"1\" class=\"dataframe\">\n  <thead>\n    <tr style=\"text-align: right;\">\n      <th></th>\n      <th>fMRI participant #</th>\n      <th>Patient NAME</th>\n      <th>Age</th>\n      <th>QI</th>\n      <th>Protocol</th>\n      <th>Group</th>\n      <th>Comentários</th>\n      <th>Processando?</th>\n      <th>num TRs above mot limit</th>\n      <th>average motion (per TR)</th>\n      <th>...</th>\n      <th>Podemos usar? .1</th>\n      <th>Total.3</th>\n      <th>Processando?.4</th>\n      <th>num TRs above mot limit.4</th>\n      <th>average motion (per TR).4</th>\n      <th>TRs Censored.3</th>\n      <th>registro anat X EPI.4</th>\n      <th>Ativação.3</th>\n      <th>Comentario .2</th>\n      <th>Podemos usar? .2</th>\n    </tr>\n  </thead>\n  <tbody>\n    <tr>\n      <th>0</th>\n      <td>1</td>\n      <td>Gregory Morais Pires</td>\n      <td>11</td>\n      <td>NaN</td>\n      <td>AMBAC</td>\n      <td>Dislex</td>\n      <td>NaN</td>\n      <td>done</td>\n      <td>NaN</td>\n      <td>NaN</td>\n      <td>...</td>\n      <td>NaN</td>\n      <td>NaN</td>\n      <td>NaN</td>\n      <td>NaN</td>\n      <td>NaN</td>\n      <td>NaN</td>\n      <td>NaN</td>\n      <td>NaN</td>\n      <td>NaN</td>\n      <td>NaN</td>\n    </tr>\n    <tr>\n      <th>1</th>\n      <td>2</td>\n      <td>Estevão de Oliveira Guima</td>\n      <td>11</td>\n      <td>103</td>\n      <td>AMBAC</td>\n      <td>Dislex</td>\n      <td>NaN</td>\n      <td>done</td>\n      <td>NaN</td>\n      <td>NaN</td>\n      <td>...</td>\n      <td>NaN</td>\n      <td>NaN</td>\n      <td>NaN</td>\n      <td>NaN</td>\n      <td>NaN</td>\n      <td>NaN</td>\n      <td>NaN</td>\n      <td>NaN</td>\n      <td>NaN</td>\n      <td>NaN</td>\n    </tr>\n    <tr>\n      <th>2</th>\n      <td>3</td>\n      <td>Guilherme Conceição</td>\n      <td>11</td>\n      <td>115</td>\n      <td>AMBAC</td>\n      <td>Dislex</td>\n      <td>Teve que realizar Imagem T1 duas vezes pq se m...</td>\n      <td>done</td>\n      <td>NaN</td>\n      <td>NaN</td>\n      <td>...</td>\n      <td>NaN</td>\n      <td>NaN</td>\n      <td>NaN</td>\n      <td>NaN</td>\n      <td>NaN</td>\n      <td>NaN</td>\n      <td>NaN</td>\n      <td>NaN</td>\n      <td>NaN</td>\n      <td>NaN</td>\n    </tr>\n    <tr>\n      <th>3</th>\n      <td>4</td>\n      <td>-</td>\n      <td>-</td>\n      <td>-</td>\n      <td>-</td>\n      <td>-</td>\n      <td>-</td>\n      <td>-</td>\n      <td>-</td>\n      <td>-</td>\n      <td>...</td>\n      <td>-</td>\n      <td>NaN</td>\n      <td>-</td>\n      <td>-</td>\n      <td>-</td>\n      <td>-</td>\n      <td>-</td>\n      <td>-</td>\n      <td>-</td>\n      <td>-</td>\n    </tr>\n    <tr>\n      <th>4</th>\n      <td>5</td>\n      <td>Livia Freitas Larroque</td>\n      <td>9</td>\n      <td>103</td>\n      <td>AMBAC</td>\n      <td>Dislex</td>\n      <td>Teve que realizar Imagem T1 duas vezes pq se m...</td>\n      <td>done</td>\n      <td>NaN</td>\n      <td>NaN</td>\n      <td>...</td>\n      <td>NaN</td>\n      <td>NaN</td>\n      <td>NaN</td>\n      <td>NaN</td>\n      <td>NaN</td>\n      <td>NaN</td>\n      <td>NaN</td>\n      <td>NaN</td>\n      <td>NaN</td>\n      <td>NaN</td>\n    </tr>\n  </tbody>\n</table>\n<p>5 rows × 52 columns</p>\n</div>"
     },
     "metadata": {},
     "execution_count": 3
    }
   ],
   "source": [
    "# ver qual das sheets eu vou precisar usar\n",
    "dfFmriAMBAC.head()"
   ]
  },
  {
   "cell_type": "code",
   "execution_count": 4,
   "metadata": {},
   "outputs": [
    {
     "output_type": "execute_result",
     "data": {
      "text/plain": [
       "array(['Dislex', '-', 'Dificuldade de Aprendizagem', 'Dislexia',\n",
       "       'Controle', 'Disléxico', 'Disléxica'], dtype=object)"
      ]
     },
     "metadata": {},
     "execution_count": 4
    }
   ],
   "source": [
    "dfFmriAMBAC['Group'].unique()"
   ]
  },
  {
   "cell_type": "code",
   "execution_count": 5,
   "metadata": {},
   "outputs": [],
   "source": [
    "dfFmriAMBAC = dfFmriAMBAC[dfFmriAMBAC['Group'] != '-']\n",
    "dfFmriAMBACControle = dfFmriAMBAC[dfFmriAMBAC['Group'] =='Controle']\n",
    "dfFmriAMBACDificuldade = dfFmriAMBAC[dfFmriAMBAC['Group'] == 'Dificuldade de Aprendizagem']"
   ]
  },
  {
   "cell_type": "code",
   "execution_count": 6,
   "metadata": {},
   "outputs": [
    {
     "output_type": "execute_result",
     "data": {
      "text/plain": [
       "array(['Dislex'], dtype=object)"
      ]
     },
     "metadata": {},
     "execution_count": 6
    }
   ],
   "source": [
    "dfFmriAMBACDislexicos = dfFmriAMBAC.drop(dfFmriAMBACDificuldade.index)\n",
    "dfFmriAMBACDislexicos = dfFmriAMBACDislexicos.drop(dfFmriAMBACControle.index)\n",
    "dfFmriAMBACDislexicos['Group'] = 'Dislex'\n",
    "dfFmriAMBACDislexicos['Group'].unique()"
   ]
  },
  {
   "cell_type": "code",
   "execution_count": 7,
   "metadata": {},
   "outputs": [],
   "source": [
    "frames = [dfFmriAMBACDislexicos, dfFmriAMBACControle, dfFmriAMBACDificuldade]\n",
    "\n",
    "dfResultFmriAMBAC = pd.concat(frames)"
   ]
  },
  {
   "cell_type": "code",
   "execution_count": 8,
   "metadata": {},
   "outputs": [
    {
     "output_type": "execute_result",
     "data": {
      "text/plain": [
       "   fMRI participant #               Patient NAME Age   QI Protocol   Group  \\\n",
       "0                   1       Gregory Morais Pires  11  NaN    AMBAC  Dislex   \n",
       "1                   2  Estevão de Oliveira Guima  11  103    AMBAC  Dislex   \n",
       "2                   3        Guilherme Conceição  11  115    AMBAC  Dislex   \n",
       "4                   5     Livia Freitas Larroque   9  103    AMBAC  Dislex   \n",
       "5                   6     Gabriel Nunes Ferreira   9  126    AMBAC  Dislex   \n",
       "\n",
       "                                         Comentários Processando?  \\\n",
       "0                                                NaN         done   \n",
       "1                                                NaN         done   \n",
       "2  Teve que realizar Imagem T1 duas vezes pq se m...         done   \n",
       "4  Teve que realizar Imagem T1 duas vezes pq se m...         done   \n",
       "5                                                NaN         done   \n",
       "\n",
       "  num TRs above mot limit average motion (per TR)  ... Podemos usar? .1  \\\n",
       "0                     NaN                     NaN  ...              NaN   \n",
       "1                     NaN                     NaN  ...              NaN   \n",
       "2                     NaN                     NaN  ...              NaN   \n",
       "4                     NaN                     NaN  ...              NaN   \n",
       "5                     NaN                     NaN  ...              NaN   \n",
       "\n",
       "  Total.3 Processando?.4 num TRs above mot limit.4 average motion (per TR).4  \\\n",
       "0     NaN            NaN                       NaN                       NaN   \n",
       "1     NaN            NaN                       NaN                       NaN   \n",
       "2     NaN            NaN                       NaN                       NaN   \n",
       "4     NaN            NaN                       NaN                       NaN   \n",
       "5     NaN            NaN                       NaN                       NaN   \n",
       "\n",
       "  TRs Censored.3 registro anat X EPI.4 Ativação.3 Comentario .2  \\\n",
       "0            NaN                   NaN        NaN           NaN   \n",
       "1            NaN                   NaN        NaN           NaN   \n",
       "2            NaN                   NaN        NaN           NaN   \n",
       "4            NaN                   NaN        NaN           NaN   \n",
       "5            NaN                   NaN        NaN           NaN   \n",
       "\n",
       "  Podemos usar? .2  \n",
       "0              NaN  \n",
       "1              NaN  \n",
       "2              NaN  \n",
       "4              NaN  \n",
       "5              NaN  \n",
       "\n",
       "[5 rows x 52 columns]"
      ],
      "text/html": "<div>\n<style scoped>\n    .dataframe tbody tr th:only-of-type {\n        vertical-align: middle;\n    }\n\n    .dataframe tbody tr th {\n        vertical-align: top;\n    }\n\n    .dataframe thead th {\n        text-align: right;\n    }\n</style>\n<table border=\"1\" class=\"dataframe\">\n  <thead>\n    <tr style=\"text-align: right;\">\n      <th></th>\n      <th>fMRI participant #</th>\n      <th>Patient NAME</th>\n      <th>Age</th>\n      <th>QI</th>\n      <th>Protocol</th>\n      <th>Group</th>\n      <th>Comentários</th>\n      <th>Processando?</th>\n      <th>num TRs above mot limit</th>\n      <th>average motion (per TR)</th>\n      <th>...</th>\n      <th>Podemos usar? .1</th>\n      <th>Total.3</th>\n      <th>Processando?.4</th>\n      <th>num TRs above mot limit.4</th>\n      <th>average motion (per TR).4</th>\n      <th>TRs Censored.3</th>\n      <th>registro anat X EPI.4</th>\n      <th>Ativação.3</th>\n      <th>Comentario .2</th>\n      <th>Podemos usar? .2</th>\n    </tr>\n  </thead>\n  <tbody>\n    <tr>\n      <th>0</th>\n      <td>1</td>\n      <td>Gregory Morais Pires</td>\n      <td>11</td>\n      <td>NaN</td>\n      <td>AMBAC</td>\n      <td>Dislex</td>\n      <td>NaN</td>\n      <td>done</td>\n      <td>NaN</td>\n      <td>NaN</td>\n      <td>...</td>\n      <td>NaN</td>\n      <td>NaN</td>\n      <td>NaN</td>\n      <td>NaN</td>\n      <td>NaN</td>\n      <td>NaN</td>\n      <td>NaN</td>\n      <td>NaN</td>\n      <td>NaN</td>\n      <td>NaN</td>\n    </tr>\n    <tr>\n      <th>1</th>\n      <td>2</td>\n      <td>Estevão de Oliveira Guima</td>\n      <td>11</td>\n      <td>103</td>\n      <td>AMBAC</td>\n      <td>Dislex</td>\n      <td>NaN</td>\n      <td>done</td>\n      <td>NaN</td>\n      <td>NaN</td>\n      <td>...</td>\n      <td>NaN</td>\n      <td>NaN</td>\n      <td>NaN</td>\n      <td>NaN</td>\n      <td>NaN</td>\n      <td>NaN</td>\n      <td>NaN</td>\n      <td>NaN</td>\n      <td>NaN</td>\n      <td>NaN</td>\n    </tr>\n    <tr>\n      <th>2</th>\n      <td>3</td>\n      <td>Guilherme Conceição</td>\n      <td>11</td>\n      <td>115</td>\n      <td>AMBAC</td>\n      <td>Dislex</td>\n      <td>Teve que realizar Imagem T1 duas vezes pq se m...</td>\n      <td>done</td>\n      <td>NaN</td>\n      <td>NaN</td>\n      <td>...</td>\n      <td>NaN</td>\n      <td>NaN</td>\n      <td>NaN</td>\n      <td>NaN</td>\n      <td>NaN</td>\n      <td>NaN</td>\n      <td>NaN</td>\n      <td>NaN</td>\n      <td>NaN</td>\n      <td>NaN</td>\n    </tr>\n    <tr>\n      <th>4</th>\n      <td>5</td>\n      <td>Livia Freitas Larroque</td>\n      <td>9</td>\n      <td>103</td>\n      <td>AMBAC</td>\n      <td>Dislex</td>\n      <td>Teve que realizar Imagem T1 duas vezes pq se m...</td>\n      <td>done</td>\n      <td>NaN</td>\n      <td>NaN</td>\n      <td>...</td>\n      <td>NaN</td>\n      <td>NaN</td>\n      <td>NaN</td>\n      <td>NaN</td>\n      <td>NaN</td>\n      <td>NaN</td>\n      <td>NaN</td>\n      <td>NaN</td>\n      <td>NaN</td>\n      <td>NaN</td>\n    </tr>\n    <tr>\n      <th>5</th>\n      <td>6</td>\n      <td>Gabriel Nunes Ferreira</td>\n      <td>9</td>\n      <td>126</td>\n      <td>AMBAC</td>\n      <td>Dislex</td>\n      <td>NaN</td>\n      <td>done</td>\n      <td>NaN</td>\n      <td>NaN</td>\n      <td>...</td>\n      <td>NaN</td>\n      <td>NaN</td>\n      <td>NaN</td>\n      <td>NaN</td>\n      <td>NaN</td>\n      <td>NaN</td>\n      <td>NaN</td>\n      <td>NaN</td>\n      <td>NaN</td>\n      <td>NaN</td>\n    </tr>\n  </tbody>\n</table>\n<p>5 rows × 52 columns</p>\n</div>"
     },
     "metadata": {},
     "execution_count": 8
    }
   ],
   "source": [
    "dfResultFmriAMBAC.head()"
   ]
  },
  {
   "cell_type": "code",
   "execution_count": 9,
   "metadata": {},
   "outputs": [],
   "source": [
    "dfResultFmriAMBAC['fmri_id'] = dfResultFmriAMBAC['fMRI participant #'].astype(str).str.zfill(3)\n",
    "dfResultFmriAMBAC['fmri_code'] = \"AMBAC\" + dfResultFmriAMBAC['fMRI participant #'].astype(str).str.zfill(3)"
   ]
  },
  {
   "cell_type": "code",
   "execution_count": 10,
   "metadata": {},
   "outputs": [],
   "source": [
    "for index, row in dfResultFmriAMBAC.iterrows():\n",
    "    for file in glob.glob('correlation_matrix/*'+row['fmri_id']+'.txt'):\n",
    "        dfResultFmriAMBAC.loc[index,'correlation_matrix'] = file"
   ]
  },
  {
   "cell_type": "code",
   "execution_count": 11,
   "metadata": {},
   "outputs": [],
   "source": [
    "dfResultFmriAMBAC_Filtered = dfResultFmriAMBAC[['fMRI participant #', 'Patient NAME', 'Age', 'QI', 'Protocol', 'Group', 'Comentários', 'fmri_id', 'correlation_matrix', 'fmri_code']]"
   ]
  },
  {
   "cell_type": "code",
   "execution_count": 12,
   "metadata": {},
   "outputs": [
    {
     "output_type": "execute_result",
     "data": {
      "text/plain": [
       "   fMRI participant #               Patient NAME Age   QI Protocol   Group  \\\n",
       "0                   1       Gregory Morais Pires  11  NaN    AMBAC  Dislex   \n",
       "1                   2  Estevão de Oliveira Guima  11  103    AMBAC  Dislex   \n",
       "2                   3        Guilherme Conceição  11  115    AMBAC  Dislex   \n",
       "4                   5     Livia Freitas Larroque   9  103    AMBAC  Dislex   \n",
       "5                   6     Gabriel Nunes Ferreira   9  126    AMBAC  Dislex   \n",
       "\n",
       "                                         Comentários fmri_id  \\\n",
       "0                                                NaN     001   \n",
       "1                                                NaN     002   \n",
       "2  Teve que realizar Imagem T1 duas vezes pq se m...     003   \n",
       "4  Teve que realizar Imagem T1 duas vezes pq se m...     005   \n",
       "5                                                NaN     006   \n",
       "\n",
       "                correlation_matrix fmri_code  \n",
       "0                              NaN  AMBAC001  \n",
       "1  correlation_matrix/AMBAC002.txt  AMBAC002  \n",
       "2                              NaN  AMBAC003  \n",
       "4  correlation_matrix/AMBAC005.txt  AMBAC005  \n",
       "5  correlation_matrix/AMBAC006.txt  AMBAC006  "
      ],
      "text/html": "<div>\n<style scoped>\n    .dataframe tbody tr th:only-of-type {\n        vertical-align: middle;\n    }\n\n    .dataframe tbody tr th {\n        vertical-align: top;\n    }\n\n    .dataframe thead th {\n        text-align: right;\n    }\n</style>\n<table border=\"1\" class=\"dataframe\">\n  <thead>\n    <tr style=\"text-align: right;\">\n      <th></th>\n      <th>fMRI participant #</th>\n      <th>Patient NAME</th>\n      <th>Age</th>\n      <th>QI</th>\n      <th>Protocol</th>\n      <th>Group</th>\n      <th>Comentários</th>\n      <th>fmri_id</th>\n      <th>correlation_matrix</th>\n      <th>fmri_code</th>\n    </tr>\n  </thead>\n  <tbody>\n    <tr>\n      <th>0</th>\n      <td>1</td>\n      <td>Gregory Morais Pires</td>\n      <td>11</td>\n      <td>NaN</td>\n      <td>AMBAC</td>\n      <td>Dislex</td>\n      <td>NaN</td>\n      <td>001</td>\n      <td>NaN</td>\n      <td>AMBAC001</td>\n    </tr>\n    <tr>\n      <th>1</th>\n      <td>2</td>\n      <td>Estevão de Oliveira Guima</td>\n      <td>11</td>\n      <td>103</td>\n      <td>AMBAC</td>\n      <td>Dislex</td>\n      <td>NaN</td>\n      <td>002</td>\n      <td>correlation_matrix/AMBAC002.txt</td>\n      <td>AMBAC002</td>\n    </tr>\n    <tr>\n      <th>2</th>\n      <td>3</td>\n      <td>Guilherme Conceição</td>\n      <td>11</td>\n      <td>115</td>\n      <td>AMBAC</td>\n      <td>Dislex</td>\n      <td>Teve que realizar Imagem T1 duas vezes pq se m...</td>\n      <td>003</td>\n      <td>NaN</td>\n      <td>AMBAC003</td>\n    </tr>\n    <tr>\n      <th>4</th>\n      <td>5</td>\n      <td>Livia Freitas Larroque</td>\n      <td>9</td>\n      <td>103</td>\n      <td>AMBAC</td>\n      <td>Dislex</td>\n      <td>Teve que realizar Imagem T1 duas vezes pq se m...</td>\n      <td>005</td>\n      <td>correlation_matrix/AMBAC005.txt</td>\n      <td>AMBAC005</td>\n    </tr>\n    <tr>\n      <th>5</th>\n      <td>6</td>\n      <td>Gabriel Nunes Ferreira</td>\n      <td>9</td>\n      <td>126</td>\n      <td>AMBAC</td>\n      <td>Dislex</td>\n      <td>NaN</td>\n      <td>006</td>\n      <td>correlation_matrix/AMBAC006.txt</td>\n      <td>AMBAC006</td>\n    </tr>\n  </tbody>\n</table>\n</div>"
     },
     "metadata": {},
     "execution_count": 12
    }
   ],
   "source": [
    "dfResultFmriAMBAC_Filtered.head()"
   ]
  },
  {
   "cell_type": "code",
   "execution_count": 13,
   "metadata": {},
   "outputs": [
    {
     "output_type": "stream",
     "name": "stdout",
     "text": [
      "Shape dfAmbac antes: (468, 139)\nShape dfAmbac DEPOIS: (468, 104)\n"
     ]
    }
   ],
   "source": [
    "print(\"Shape dfAmbac antes: \"+ str(dfAmbac.shape))\n",
    "\n",
    "dfAmbac = dfAmbac.loc[:, dfAmbac.isnull().mean() < .1]\n",
    "\n",
    "print(\"Shape dfAmbac DEPOIS: \"+ str(dfAmbac.shape))\n"
   ]
  },
  {
   "cell_type": "code",
   "execution_count": 14,
   "metadata": {},
   "outputs": [
    {
     "output_type": "execute_result",
     "data": {
      "text/plain": [
       "0                Alicia Paier Pereira\n",
       "1        Amanda de Souza C. Fernandes\n",
       "2                 Brenda Leandro Maia\n",
       "3      Bruno de Carvalho Rocha Strunz\n",
       "4               Bruno Machado Godniak\n",
       "                    ...              \n",
       "463            Pietra Soares de Abreu\n",
       "464                Bruno Matheus Odir\n",
       "465         Karoline Beninca Linhares\n",
       "466       Cristine de Miranda Antunes\n",
       "467      Larissa Bernardes de Quadros\n",
       "Name: Nome, Length: 468, dtype: object"
      ]
     },
     "metadata": {},
     "execution_count": 14
    }
   ],
   "source": [
    "dfAmbac.iloc[:,0].str.strip()"
   ]
  },
  {
   "cell_type": "code",
   "execution_count": 15,
   "metadata": {
    "scrolled": true
   },
   "outputs": [
    {
     "output_type": "execute_result",
     "data": {
      "text/plain": [
       "                             Nome  DX FEZ QI QI Nº     SIGNIFICADO  \\\n",
       "0            Alicia Paier Pereira   5      1    85  médio inferior   \n",
       "1    Amanda de Souza C. Fernandes   5      1   117      médio sup.   \n",
       "2             Brenda Leandro Maia   5      1    83      médio inf.   \n",
       "3  Bruno de Carvalho Rocha Strunz  NC      2    NC              NC   \n",
       "4           Bruno Machado Godniak   4      1   126       superior    \n",
       "\n",
       "  Ordem direta bruto Span direto Ordem inversa bruto span inverso  \\\n",
       "0                 NC          NC                  NC           NC   \n",
       "1                 NC          NC                  NC           NC   \n",
       "2                 NC          NC                  NC           NC   \n",
       "3                 NC          NC                  NC           NC   \n",
       "4                 NC          NC                  NC           NC   \n",
       "\n",
       "  CHAMAR fMRI?  ... LEIT_PRECIS ERRO_PRECIS VEL_PRECIS (PAL/MIN) LEIT_VIA  \\\n",
       "0            2  ...           2          40                   16        1   \n",
       "1            2  ...           1          28                    8        3   \n",
       "2            1  ...           1          45                   24        3   \n",
       "3           NC  ...          NC          NC                   NC       NC   \n",
       "4            1  ...           1          68                   11        3   \n",
       "\n",
       "  LEIT_FLU LEIT_FLUENC_S LEIT_FLUENC_O LEIT_COMPR DISLEXIA TrueFalse  \n",
       "0        1            27            27          1        2     False  \n",
       "1        1            32            23          1        2     False  \n",
       "2        2            68            50          1        3         8  \n",
       "3       NC            NC            NC         NC       NC     False  \n",
       "4        1            16            17          2        1     False  \n",
       "\n",
       "[5 rows x 105 columns]"
      ],
      "text/html": "<div>\n<style scoped>\n    .dataframe tbody tr th:only-of-type {\n        vertical-align: middle;\n    }\n\n    .dataframe tbody tr th {\n        vertical-align: top;\n    }\n\n    .dataframe thead th {\n        text-align: right;\n    }\n</style>\n<table border=\"1\" class=\"dataframe\">\n  <thead>\n    <tr style=\"text-align: right;\">\n      <th></th>\n      <th>Nome</th>\n      <th>DX</th>\n      <th>FEZ QI</th>\n      <th>QI Nº</th>\n      <th>SIGNIFICADO</th>\n      <th>Ordem direta bruto</th>\n      <th>Span direto</th>\n      <th>Ordem inversa bruto</th>\n      <th>span inverso</th>\n      <th>CHAMAR fMRI?</th>\n      <th>...</th>\n      <th>LEIT_PRECIS</th>\n      <th>ERRO_PRECIS</th>\n      <th>VEL_PRECIS (PAL/MIN)</th>\n      <th>LEIT_VIA</th>\n      <th>LEIT_FLU</th>\n      <th>LEIT_FLUENC_S</th>\n      <th>LEIT_FLUENC_O</th>\n      <th>LEIT_COMPR</th>\n      <th>DISLEXIA</th>\n      <th>TrueFalse</th>\n    </tr>\n  </thead>\n  <tbody>\n    <tr>\n      <th>0</th>\n      <td>Alicia Paier Pereira</td>\n      <td>5</td>\n      <td>1</td>\n      <td>85</td>\n      <td>médio inferior</td>\n      <td>NC</td>\n      <td>NC</td>\n      <td>NC</td>\n      <td>NC</td>\n      <td>2</td>\n      <td>...</td>\n      <td>2</td>\n      <td>40</td>\n      <td>16</td>\n      <td>1</td>\n      <td>1</td>\n      <td>27</td>\n      <td>27</td>\n      <td>1</td>\n      <td>2</td>\n      <td>False</td>\n    </tr>\n    <tr>\n      <th>1</th>\n      <td>Amanda de Souza C. Fernandes</td>\n      <td>5</td>\n      <td>1</td>\n      <td>117</td>\n      <td>médio sup.</td>\n      <td>NC</td>\n      <td>NC</td>\n      <td>NC</td>\n      <td>NC</td>\n      <td>2</td>\n      <td>...</td>\n      <td>1</td>\n      <td>28</td>\n      <td>8</td>\n      <td>3</td>\n      <td>1</td>\n      <td>32</td>\n      <td>23</td>\n      <td>1</td>\n      <td>2</td>\n      <td>False</td>\n    </tr>\n    <tr>\n      <th>2</th>\n      <td>Brenda Leandro Maia</td>\n      <td>5</td>\n      <td>1</td>\n      <td>83</td>\n      <td>médio inf.</td>\n      <td>NC</td>\n      <td>NC</td>\n      <td>NC</td>\n      <td>NC</td>\n      <td>1</td>\n      <td>...</td>\n      <td>1</td>\n      <td>45</td>\n      <td>24</td>\n      <td>3</td>\n      <td>2</td>\n      <td>68</td>\n      <td>50</td>\n      <td>1</td>\n      <td>3</td>\n      <td>8</td>\n    </tr>\n    <tr>\n      <th>3</th>\n      <td>Bruno de Carvalho Rocha Strunz</td>\n      <td>NC</td>\n      <td>2</td>\n      <td>NC</td>\n      <td>NC</td>\n      <td>NC</td>\n      <td>NC</td>\n      <td>NC</td>\n      <td>NC</td>\n      <td>NC</td>\n      <td>...</td>\n      <td>NC</td>\n      <td>NC</td>\n      <td>NC</td>\n      <td>NC</td>\n      <td>NC</td>\n      <td>NC</td>\n      <td>NC</td>\n      <td>NC</td>\n      <td>NC</td>\n      <td>False</td>\n    </tr>\n    <tr>\n      <th>4</th>\n      <td>Bruno Machado Godniak</td>\n      <td>4</td>\n      <td>1</td>\n      <td>126</td>\n      <td>superior</td>\n      <td>NC</td>\n      <td>NC</td>\n      <td>NC</td>\n      <td>NC</td>\n      <td>1</td>\n      <td>...</td>\n      <td>1</td>\n      <td>68</td>\n      <td>11</td>\n      <td>3</td>\n      <td>1</td>\n      <td>16</td>\n      <td>17</td>\n      <td>2</td>\n      <td>1</td>\n      <td>False</td>\n    </tr>\n  </tbody>\n</table>\n<p>5 rows × 105 columns</p>\n</div>"
     },
     "metadata": {},
     "execution_count": 15
    }
   ],
   "source": [
    "from difflib import SequenceMatcher\n",
    "\n",
    "def verifica(nome):\n",
    "    achei = False\n",
    "    big_ratio = 0.0\n",
    "    min_ratio = 0.7\n",
    "    if not pd.isna(nome):\n",
    "        for index, row in dfResultFmriAMBAC_Filtered.iterrows():\n",
    "#             print(\"Nome: \"+ nome + \" fmri: \"+ nomeFmri)\n",
    "            ratio = SequenceMatcher(None, nome.strip(), row['Patient NAME'].strip()).ratio()\n",
    "            if (ratio >= big_ratio and ratio>=min_ratio):\n",
    "                big_ratio = ratio\n",
    "                achei = row['fMRI participant #']\n",
    "    return achei\n",
    "    \n",
    "dfAmbac[\"TrueFalse\"] = dfAmbac.iloc[:,0].apply(lambda row: verifica(row))\n",
    "dfAmbac.head()"
   ]
  },
  {
   "cell_type": "code",
   "execution_count": 16,
   "metadata": {},
   "outputs": [],
   "source": [
    "result = pd.merge(dfAmbac, dfResultFmriAMBAC_Filtered, left_on='TrueFalse', right_on='fMRI participant #')"
   ]
  },
  {
   "cell_type": "code",
   "execution_count": 17,
   "metadata": {},
   "outputs": [
    {
     "output_type": "execute_result",
     "data": {
      "text/plain": [
       "                             Nome  DX FEZ QI QI Nº     SIGNIFICADO  \\\n",
       "0             Brenda Leandro Maia   5      1    83      médio inf.   \n",
       "1            Brendha Machado Maia  EX     EX    EX              EX   \n",
       "2   Estevão de Oliveira Guimarães   4      1   103           médio   \n",
       "3  Gregory Moraes Pires do Amaral   4      1    85      médio inf.   \n",
       "4    Kellen Ariane Medeiros Rohde   4      1   112  médio superior   \n",
       "\n",
       "  Ordem direta bruto Span direto Ordem inversa bruto span inverso  \\\n",
       "0                 NC          NC                  NC           NC   \n",
       "1                  4           3                   0            0   \n",
       "2                 NC          NC                  NC           NC   \n",
       "3                 NC          NC                  NC           NC   \n",
       "4                 NC          NC                  NC           NC   \n",
       "\n",
       "  CHAMAR fMRI?  ...               Patient NAME Age   QI Protocol  \\\n",
       "0            1  ...        Brenda Leandro Maia  10  NaN    AMBAC   \n",
       "1           EX  ...        Brenda Leandro Maia  10  NaN    AMBAC   \n",
       "2            1  ...  Estevão de Oliveira Guima  11  103    AMBAC   \n",
       "3            1  ...       Gregory Morais Pires  11  NaN    AMBAC   \n",
       "4            1  ...        Kellen Ariane Rohde   9  112    AMBAC   \n",
       "\n",
       "                         Group  \\\n",
       "0  Dificuldade de Aprendizagem   \n",
       "1  Dificuldade de Aprendizagem   \n",
       "2                       Dislex   \n",
       "3                       Dislex   \n",
       "4                       Dislex   \n",
       "\n",
       "                                         Comentários fmri_id  \\\n",
       "0                        Descartar: paciente canhota     008   \n",
       "1                        Descartar: paciente canhota     008   \n",
       "2                                                NaN     002   \n",
       "3                                                NaN     001   \n",
       "4  Pseudopalavra tinha sido rodado duas vezes. Pa...     007   \n",
       "\n",
       "                correlation_matrix fmri_code Group_cat  \n",
       "0                              NaN  AMBAC008         1  \n",
       "1                              NaN  AMBAC008         1  \n",
       "2  correlation_matrix/AMBAC002.txt  AMBAC002         2  \n",
       "3                              NaN  AMBAC001         2  \n",
       "4  correlation_matrix/AMBAC007.txt  AMBAC007         2  \n",
       "\n",
       "[5 rows x 116 columns]"
      ],
      "text/html": "<div>\n<style scoped>\n    .dataframe tbody tr th:only-of-type {\n        vertical-align: middle;\n    }\n\n    .dataframe tbody tr th {\n        vertical-align: top;\n    }\n\n    .dataframe thead th {\n        text-align: right;\n    }\n</style>\n<table border=\"1\" class=\"dataframe\">\n  <thead>\n    <tr style=\"text-align: right;\">\n      <th></th>\n      <th>Nome</th>\n      <th>DX</th>\n      <th>FEZ QI</th>\n      <th>QI Nº</th>\n      <th>SIGNIFICADO</th>\n      <th>Ordem direta bruto</th>\n      <th>Span direto</th>\n      <th>Ordem inversa bruto</th>\n      <th>span inverso</th>\n      <th>CHAMAR fMRI?</th>\n      <th>...</th>\n      <th>Patient NAME</th>\n      <th>Age</th>\n      <th>QI</th>\n      <th>Protocol</th>\n      <th>Group</th>\n      <th>Comentários</th>\n      <th>fmri_id</th>\n      <th>correlation_matrix</th>\n      <th>fmri_code</th>\n      <th>Group_cat</th>\n    </tr>\n  </thead>\n  <tbody>\n    <tr>\n      <th>0</th>\n      <td>Brenda Leandro Maia</td>\n      <td>5</td>\n      <td>1</td>\n      <td>83</td>\n      <td>médio inf.</td>\n      <td>NC</td>\n      <td>NC</td>\n      <td>NC</td>\n      <td>NC</td>\n      <td>1</td>\n      <td>...</td>\n      <td>Brenda Leandro Maia</td>\n      <td>10</td>\n      <td>NaN</td>\n      <td>AMBAC</td>\n      <td>Dificuldade de Aprendizagem</td>\n      <td>Descartar: paciente canhota</td>\n      <td>008</td>\n      <td>NaN</td>\n      <td>AMBAC008</td>\n      <td>1</td>\n    </tr>\n    <tr>\n      <th>1</th>\n      <td>Brendha Machado Maia</td>\n      <td>EX</td>\n      <td>EX</td>\n      <td>EX</td>\n      <td>EX</td>\n      <td>4</td>\n      <td>3</td>\n      <td>0</td>\n      <td>0</td>\n      <td>EX</td>\n      <td>...</td>\n      <td>Brenda Leandro Maia</td>\n      <td>10</td>\n      <td>NaN</td>\n      <td>AMBAC</td>\n      <td>Dificuldade de Aprendizagem</td>\n      <td>Descartar: paciente canhota</td>\n      <td>008</td>\n      <td>NaN</td>\n      <td>AMBAC008</td>\n      <td>1</td>\n    </tr>\n    <tr>\n      <th>2</th>\n      <td>Estevão de Oliveira Guimarães</td>\n      <td>4</td>\n      <td>1</td>\n      <td>103</td>\n      <td>médio</td>\n      <td>NC</td>\n      <td>NC</td>\n      <td>NC</td>\n      <td>NC</td>\n      <td>1</td>\n      <td>...</td>\n      <td>Estevão de Oliveira Guima</td>\n      <td>11</td>\n      <td>103</td>\n      <td>AMBAC</td>\n      <td>Dislex</td>\n      <td>NaN</td>\n      <td>002</td>\n      <td>correlation_matrix/AMBAC002.txt</td>\n      <td>AMBAC002</td>\n      <td>2</td>\n    </tr>\n    <tr>\n      <th>3</th>\n      <td>Gregory Moraes Pires do Amaral</td>\n      <td>4</td>\n      <td>1</td>\n      <td>85</td>\n      <td>médio inf.</td>\n      <td>NC</td>\n      <td>NC</td>\n      <td>NC</td>\n      <td>NC</td>\n      <td>1</td>\n      <td>...</td>\n      <td>Gregory Morais Pires</td>\n      <td>11</td>\n      <td>NaN</td>\n      <td>AMBAC</td>\n      <td>Dislex</td>\n      <td>NaN</td>\n      <td>001</td>\n      <td>NaN</td>\n      <td>AMBAC001</td>\n      <td>2</td>\n    </tr>\n    <tr>\n      <th>4</th>\n      <td>Kellen Ariane Medeiros Rohde</td>\n      <td>4</td>\n      <td>1</td>\n      <td>112</td>\n      <td>médio superior</td>\n      <td>NC</td>\n      <td>NC</td>\n      <td>NC</td>\n      <td>NC</td>\n      <td>1</td>\n      <td>...</td>\n      <td>Kellen Ariane Rohde</td>\n      <td>9</td>\n      <td>112</td>\n      <td>AMBAC</td>\n      <td>Dislex</td>\n      <td>Pseudopalavra tinha sido rodado duas vezes. Pa...</td>\n      <td>007</td>\n      <td>correlation_matrix/AMBAC007.txt</td>\n      <td>AMBAC007</td>\n      <td>2</td>\n    </tr>\n  </tbody>\n</table>\n<p>5 rows × 116 columns</p>\n</div>"
     },
     "metadata": {},
     "execution_count": 17
    }
   ],
   "source": [
    "result[\"Group\"] = result[\"Group\"].astype('category')\n",
    "result[\"Group_cat\"] = result[\"Group\"].cat.codes\n",
    "result.head()\n"
   ]
  },
  {
   "cell_type": "code",
   "execution_count": 18,
   "metadata": {},
   "outputs": [
    {
     "output_type": "execute_result",
     "data": {
      "text/plain": [
       "                              Nome               Patient NAME\n",
       "0              Brenda Leandro Maia        Brenda Leandro Maia\n",
       "1             Brendha Machado Maia        Brenda Leandro Maia\n",
       "2    Estevão de Oliveira Guimarães  Estevão de Oliveira Guima\n",
       "3   Gregory Moraes Pires do Amaral       Gregory Morais Pires\n",
       "4     Kellen Ariane Medeiros Rohde        Kellen Ariane Rohde\n",
       "..                             ...                        ...\n",
       "74        Luiza Luvizatto Drachler   Luiza Luvizetto Drachler\n",
       "75         Maria Luiza Gaspar Luiz         Maria Luiza Gaspar\n",
       "76          Maria Luiza Paz Bastos         Maria Luiza Gaspar\n",
       "77      Maria Luiza da Rosa Bender         Maria Luiza Gaspar\n",
       "78       Larissa Loureiro de Souza  Larissa Loureiro de Souza\n",
       "\n",
       "[79 rows x 2 columns]"
      ],
      "text/html": "<div>\n<style scoped>\n    .dataframe tbody tr th:only-of-type {\n        vertical-align: middle;\n    }\n\n    .dataframe tbody tr th {\n        vertical-align: top;\n    }\n\n    .dataframe thead th {\n        text-align: right;\n    }\n</style>\n<table border=\"1\" class=\"dataframe\">\n  <thead>\n    <tr style=\"text-align: right;\">\n      <th></th>\n      <th>Nome</th>\n      <th>Patient NAME</th>\n    </tr>\n  </thead>\n  <tbody>\n    <tr>\n      <th>0</th>\n      <td>Brenda Leandro Maia</td>\n      <td>Brenda Leandro Maia</td>\n    </tr>\n    <tr>\n      <th>1</th>\n      <td>Brendha Machado Maia</td>\n      <td>Brenda Leandro Maia</td>\n    </tr>\n    <tr>\n      <th>2</th>\n      <td>Estevão de Oliveira Guimarães</td>\n      <td>Estevão de Oliveira Guima</td>\n    </tr>\n    <tr>\n      <th>3</th>\n      <td>Gregory Moraes Pires do Amaral</td>\n      <td>Gregory Morais Pires</td>\n    </tr>\n    <tr>\n      <th>4</th>\n      <td>Kellen Ariane Medeiros Rohde</td>\n      <td>Kellen Ariane Rohde</td>\n    </tr>\n    <tr>\n      <th>...</th>\n      <td>...</td>\n      <td>...</td>\n    </tr>\n    <tr>\n      <th>74</th>\n      <td>Luiza Luvizatto Drachler</td>\n      <td>Luiza Luvizetto Drachler</td>\n    </tr>\n    <tr>\n      <th>75</th>\n      <td>Maria Luiza Gaspar Luiz</td>\n      <td>Maria Luiza Gaspar</td>\n    </tr>\n    <tr>\n      <th>76</th>\n      <td>Maria Luiza Paz Bastos</td>\n      <td>Maria Luiza Gaspar</td>\n    </tr>\n    <tr>\n      <th>77</th>\n      <td>Maria Luiza da Rosa Bender</td>\n      <td>Maria Luiza Gaspar</td>\n    </tr>\n    <tr>\n      <th>78</th>\n      <td>Larissa Loureiro de Souza</td>\n      <td>Larissa Loureiro de Souza</td>\n    </tr>\n  </tbody>\n</table>\n<p>79 rows × 2 columns</p>\n</div>"
     },
     "metadata": {},
     "execution_count": 18
    }
   ],
   "source": [
    "result[[result.iloc[:,0].name, \"Patient NAME\"]]"
   ]
  },
  {
   "cell_type": "code",
   "execution_count": 19,
   "metadata": {},
   "outputs": [
    {
     "output_type": "execute_result",
     "data": {
      "text/plain": [
       "                             Nome  DX FEZ QI QI Nº     SIGNIFICADO  \\\n",
       "0             Brenda Leandro Maia   5      1    83      médio inf.   \n",
       "1            Brendha Machado Maia  EX     EX    EX              EX   \n",
       "2   Estevão de Oliveira Guimarães   4      1   103           médio   \n",
       "3  Gregory Moraes Pires do Amaral   4      1    85      médio inf.   \n",
       "4    Kellen Ariane Medeiros Rohde   4      1   112  médio superior   \n",
       "\n",
       "  Ordem direta bruto Span direto Ordem inversa bruto span inverso  \\\n",
       "0                 NC          NC                  NC           NC   \n",
       "1                  4           3                   0            0   \n",
       "2                 NC          NC                  NC           NC   \n",
       "3                 NC          NC                  NC           NC   \n",
       "4                 NC          NC                  NC           NC   \n",
       "\n",
       "  CHAMAR fMRI?  ...               Patient NAME Age   QI Protocol  \\\n",
       "0            1  ...        Brenda Leandro Maia  10  NaN    AMBAC   \n",
       "1           EX  ...        Brenda Leandro Maia  10  NaN    AMBAC   \n",
       "2            1  ...  Estevão de Oliveira Guima  11  103    AMBAC   \n",
       "3            1  ...       Gregory Morais Pires  11  NaN    AMBAC   \n",
       "4            1  ...        Kellen Ariane Rohde   9  112    AMBAC   \n",
       "\n",
       "                         Group  \\\n",
       "0  Dificuldade de Aprendizagem   \n",
       "1  Dificuldade de Aprendizagem   \n",
       "2                       Dislex   \n",
       "3                       Dislex   \n",
       "4                       Dislex   \n",
       "\n",
       "                                         Comentários fmri_id  \\\n",
       "0                        Descartar: paciente canhota     008   \n",
       "1                        Descartar: paciente canhota     008   \n",
       "2                                                NaN     002   \n",
       "3                                                NaN     001   \n",
       "4  Pseudopalavra tinha sido rodado duas vezes. Pa...     007   \n",
       "\n",
       "                correlation_matrix fmri_code Group_cat  \n",
       "0                              NaN  AMBAC008         1  \n",
       "1                              NaN  AMBAC008         1  \n",
       "2  correlation_matrix/AMBAC002.txt  AMBAC002         2  \n",
       "3                              NaN  AMBAC001         2  \n",
       "4  correlation_matrix/AMBAC007.txt  AMBAC007         2  \n",
       "\n",
       "[5 rows x 116 columns]"
      ],
      "text/html": "<div>\n<style scoped>\n    .dataframe tbody tr th:only-of-type {\n        vertical-align: middle;\n    }\n\n    .dataframe tbody tr th {\n        vertical-align: top;\n    }\n\n    .dataframe thead th {\n        text-align: right;\n    }\n</style>\n<table border=\"1\" class=\"dataframe\">\n  <thead>\n    <tr style=\"text-align: right;\">\n      <th></th>\n      <th>Nome</th>\n      <th>DX</th>\n      <th>FEZ QI</th>\n      <th>QI Nº</th>\n      <th>SIGNIFICADO</th>\n      <th>Ordem direta bruto</th>\n      <th>Span direto</th>\n      <th>Ordem inversa bruto</th>\n      <th>span inverso</th>\n      <th>CHAMAR fMRI?</th>\n      <th>...</th>\n      <th>Patient NAME</th>\n      <th>Age</th>\n      <th>QI</th>\n      <th>Protocol</th>\n      <th>Group</th>\n      <th>Comentários</th>\n      <th>fmri_id</th>\n      <th>correlation_matrix</th>\n      <th>fmri_code</th>\n      <th>Group_cat</th>\n    </tr>\n  </thead>\n  <tbody>\n    <tr>\n      <th>0</th>\n      <td>Brenda Leandro Maia</td>\n      <td>5</td>\n      <td>1</td>\n      <td>83</td>\n      <td>médio inf.</td>\n      <td>NC</td>\n      <td>NC</td>\n      <td>NC</td>\n      <td>NC</td>\n      <td>1</td>\n      <td>...</td>\n      <td>Brenda Leandro Maia</td>\n      <td>10</td>\n      <td>NaN</td>\n      <td>AMBAC</td>\n      <td>Dificuldade de Aprendizagem</td>\n      <td>Descartar: paciente canhota</td>\n      <td>008</td>\n      <td>NaN</td>\n      <td>AMBAC008</td>\n      <td>1</td>\n    </tr>\n    <tr>\n      <th>1</th>\n      <td>Brendha Machado Maia</td>\n      <td>EX</td>\n      <td>EX</td>\n      <td>EX</td>\n      <td>EX</td>\n      <td>4</td>\n      <td>3</td>\n      <td>0</td>\n      <td>0</td>\n      <td>EX</td>\n      <td>...</td>\n      <td>Brenda Leandro Maia</td>\n      <td>10</td>\n      <td>NaN</td>\n      <td>AMBAC</td>\n      <td>Dificuldade de Aprendizagem</td>\n      <td>Descartar: paciente canhota</td>\n      <td>008</td>\n      <td>NaN</td>\n      <td>AMBAC008</td>\n      <td>1</td>\n    </tr>\n    <tr>\n      <th>2</th>\n      <td>Estevão de Oliveira Guimarães</td>\n      <td>4</td>\n      <td>1</td>\n      <td>103</td>\n      <td>médio</td>\n      <td>NC</td>\n      <td>NC</td>\n      <td>NC</td>\n      <td>NC</td>\n      <td>1</td>\n      <td>...</td>\n      <td>Estevão de Oliveira Guima</td>\n      <td>11</td>\n      <td>103</td>\n      <td>AMBAC</td>\n      <td>Dislex</td>\n      <td>NaN</td>\n      <td>002</td>\n      <td>correlation_matrix/AMBAC002.txt</td>\n      <td>AMBAC002</td>\n      <td>2</td>\n    </tr>\n    <tr>\n      <th>3</th>\n      <td>Gregory Moraes Pires do Amaral</td>\n      <td>4</td>\n      <td>1</td>\n      <td>85</td>\n      <td>médio inf.</td>\n      <td>NC</td>\n      <td>NC</td>\n      <td>NC</td>\n      <td>NC</td>\n      <td>1</td>\n      <td>...</td>\n      <td>Gregory Morais Pires</td>\n      <td>11</td>\n      <td>NaN</td>\n      <td>AMBAC</td>\n      <td>Dislex</td>\n      <td>NaN</td>\n      <td>001</td>\n      <td>NaN</td>\n      <td>AMBAC001</td>\n      <td>2</td>\n    </tr>\n    <tr>\n      <th>4</th>\n      <td>Kellen Ariane Medeiros Rohde</td>\n      <td>4</td>\n      <td>1</td>\n      <td>112</td>\n      <td>médio superior</td>\n      <td>NC</td>\n      <td>NC</td>\n      <td>NC</td>\n      <td>NC</td>\n      <td>1</td>\n      <td>...</td>\n      <td>Kellen Ariane Rohde</td>\n      <td>9</td>\n      <td>112</td>\n      <td>AMBAC</td>\n      <td>Dislex</td>\n      <td>Pseudopalavra tinha sido rodado duas vezes. Pa...</td>\n      <td>007</td>\n      <td>correlation_matrix/AMBAC007.txt</td>\n      <td>AMBAC007</td>\n      <td>2</td>\n    </tr>\n  </tbody>\n</table>\n<p>5 rows × 116 columns</p>\n</div>"
     },
     "metadata": {},
     "execution_count": 19
    }
   ],
   "source": [
    "result.head()"
   ]
  },
  {
   "cell_type": "code",
   "execution_count": 22,
   "metadata": {},
   "outputs": [
    {
     "output_type": "stream",
     "name": "stderr",
     "text": [
      "Summarize dataset: 100%|██████████| 130/130 [01:30<00:00,  1.43it/s, Completed]\n",
      "Generate report structure:   0%|          | 0/1 [00:00<?, ?it/s]/home/marilia/.local/lib/python3.6/site-packages/pandas_profiling/visualisation/plot.py:154: MatplotlibDeprecationWarning: You are modifying the state of a globally registered colormap. In future versions, you will not be able to modify a registered colormap in-place. To remove this warning, you can make a copy of the colormap first. cmap = copy.copy(mpl.cm.get_cmap(\"RdBu\"))\n",
      "  cmap.set_bad(cmap_bad)\n",
      "Generate report structure: 100%|██████████| 1/1 [00:10<00:00, 10.86s/it]\n",
      "Render HTML: 100%|██████████| 1/1 [00:04<00:00,  4.10s/it]\n",
      "Export report to file: 100%|██████████| 1/1 [00:00<00:00, 63.50it/s]\n"
     ]
    }
   ],
   "source": [
    "from pandas_profiling import ProfileReport\n",
    "report = result.profile_report()\n",
    "report.to_file(\"report.html\")"
   ]
  },
  {
   "source": [
    "## SCHOOLS"
   ],
   "cell_type": "markdown",
   "metadata": {}
  },
  {
   "cell_type": "code",
   "execution_count": 20,
   "metadata": {},
   "outputs": [
    {
     "output_type": "stream",
     "name": "stderr",
     "text": [
      "/home/marilia/.local/lib/python3.6/site-packages/pandas/core/generic.py:3889: PerformanceWarning: dropping on a non-lexsorted multi-index without a level parameter may impact performance.\n  obj = obj._drop_axis(labels, axis, level=level, errors=errors)\n"
     ]
    },
    {
     "output_type": "execute_result",
     "data": {
      "text/plain": [
       "                                  Escola                            \\\n",
       "                                   Idade                             \n",
       "                                    2015      2016          QI SES   \n",
       "fmri_utilizavel_2015 categoria                                       \n",
       "não                  B          8.666667  9.500000   96.000000 NaN   \n",
       "                     M          8.000000  9.000000   78.500000 NaN   \n",
       "sim                  B          8.631579  9.125000  101.555556 NaN   \n",
       "                     M          8.560000  9.315789   93.636364 NaN   \n",
       "                     R          8.833333  9.444444  105.625000 NaN   \n",
       "\n",
       "                               Compreensão Leitora                          \\\n",
       "                                         Tempo (s)                           \n",
       "                                              2014        2015        2016   \n",
       "fmri_utilizavel_2015 categoria                                               \n",
       "não                  B                  106.666667   86.666667  118.000000   \n",
       "                     M                  195.666667  159.000000  190.000000   \n",
       "sim                  B                   71.882353   75.294118  101.928571   \n",
       "                     M                  148.739130  145.347826  142.047619   \n",
       "                     R                  111.090909  112.166667  115.363636   \n",
       "\n",
       "                                                                        \\\n",
       "                               Velocidade de Leitura (palavras/minuto)   \n",
       "                                                                  2014   \n",
       "fmri_utilizavel_2015 categoria                                           \n",
       "não                  B                                       67.818981   \n",
       "                     M                                       36.219501   \n",
       "sim                  B                                       86.819228   \n",
       "                     M                                       45.717378   \n",
       "                     R                                       53.709323   \n",
       "\n",
       "                                                        ...  \\\n",
       "                                                        ...   \n",
       "                                      2015        2016  ...   \n",
       "fmri_utilizavel_2015 categoria                          ...   \n",
       "não                  B           97.971673   89.428346  ...   \n",
       "                     M           67.353571   49.745685  ...   \n",
       "sim                  B          118.763515  117.044939  ...   \n",
       "                     M           62.588992   71.854308  ...   \n",
       "                     R           80.903550   85.062504  ...   \n",
       "\n",
       "                               Tarefa fMRI - PALAVRAS E PSEUDO               \\\n",
       "                                Tempo de Resposta - Iregulares                \n",
       "                                                          2015         2016   \n",
       "fmri_utilizavel_2015 categoria                                                \n",
       "não                  B                             1950.366667  1771.600000   \n",
       "                     M                             4187.350000  3272.125000   \n",
       "sim                  B                             1924.086842  1745.690000   \n",
       "                     M                             2912.546154  2643.767391   \n",
       "                     R                             2530.190909  2036.195455   \n",
       "\n",
       "                                                                         \\\n",
       "                               Palavras Perdidas - Iregulares             \n",
       "                                                         2015      2016   \n",
       "fmri_utilizavel_2015 categoria                                            \n",
       "não                  B                               0.333333  0.000000   \n",
       "                     M                               0.000000  0.000000   \n",
       "sim                  B                               0.421053  0.133333   \n",
       "                     M                               1.153846  0.913043   \n",
       "                     R                               0.272727  1.000000   \n",
       "\n",
       "                                                             \\\n",
       "                               Acurácia - Pseudo              \n",
       "                                            2015       2016   \n",
       "fmri_utilizavel_2015 categoria                                \n",
       "não                  B                 17.000000  19.000000   \n",
       "                     M                  5.000000  15.000000   \n",
       "sim                  B                 18.368421  18.866667   \n",
       "                     M                 14.153846  16.434783   \n",
       "                     R                 18.090909  17.272727   \n",
       "\n",
       "                                                                        \\\n",
       "                               Tempo de Resposta - Pseudo                \n",
       "                                                     2015         2016   \n",
       "fmri_utilizavel_2015 categoria                                           \n",
       "não                  B                        2953.766667  2475.800000   \n",
       "                     M                        3324.050000  3645.200000   \n",
       "sim                  B                        2713.052632  2644.640000   \n",
       "                     M                        3359.121154  3520.371739   \n",
       "                     R                        3244.031818  2907.454545   \n",
       "\n",
       "                                                                     \n",
       "                               Palavras Perdidas - Pseudo            \n",
       "                                                     2015      2016  \n",
       "fmri_utilizavel_2015 categoria                                       \n",
       "não                  B                           0.666667  0.500000  \n",
       "                     M                           4.000000  1.500000  \n",
       "sim                  B                           0.631579  0.466667  \n",
       "                     M                           2.307692  1.083333  \n",
       "                     R                           0.636364  0.818182  \n",
       "\n",
       "[5 rows x 56 columns]"
      ],
      "text/html": "<div>\n<style scoped>\n    .dataframe tbody tr th:only-of-type {\n        vertical-align: middle;\n    }\n\n    .dataframe tbody tr th {\n        vertical-align: top;\n    }\n\n    .dataframe thead tr th {\n        text-align: left;\n    }\n\n    .dataframe thead tr:last-of-type th {\n        text-align: right;\n    }\n</style>\n<table border=\"1\" class=\"dataframe\">\n  <thead>\n    <tr>\n      <th></th>\n      <th></th>\n      <th colspan=\"4\" halign=\"left\">Escola</th>\n      <th colspan=\"6\" halign=\"left\">Compreensão Leitora</th>\n      <th>...</th>\n      <th colspan=\"10\" halign=\"left\">Tarefa fMRI - PALAVRAS E PSEUDO</th>\n    </tr>\n    <tr>\n      <th></th>\n      <th></th>\n      <th colspan=\"4\" halign=\"left\">Idade</th>\n      <th colspan=\"3\" halign=\"left\">Tempo (s)</th>\n      <th colspan=\"3\" halign=\"left\">Velocidade de Leitura (palavras/minuto)</th>\n      <th>...</th>\n      <th colspan=\"2\" halign=\"left\">Tempo de Resposta - Iregulares</th>\n      <th colspan=\"2\" halign=\"left\">Palavras Perdidas - Iregulares</th>\n      <th colspan=\"2\" halign=\"left\">Acurácia - Pseudo</th>\n      <th colspan=\"2\" halign=\"left\">Tempo de Resposta - Pseudo</th>\n      <th colspan=\"2\" halign=\"left\">Palavras Perdidas - Pseudo</th>\n    </tr>\n    <tr>\n      <th></th>\n      <th></th>\n      <th>2015</th>\n      <th>2016</th>\n      <th>QI</th>\n      <th>SES</th>\n      <th>2014</th>\n      <th>2015</th>\n      <th>2016</th>\n      <th>2014</th>\n      <th>2015</th>\n      <th>2016</th>\n      <th>...</th>\n      <th>2015</th>\n      <th>2016</th>\n      <th>2015</th>\n      <th>2016</th>\n      <th>2015</th>\n      <th>2016</th>\n      <th>2015</th>\n      <th>2016</th>\n      <th>2015</th>\n      <th>2016</th>\n    </tr>\n    <tr>\n      <th>fmri_utilizavel_2015</th>\n      <th>categoria</th>\n      <th></th>\n      <th></th>\n      <th></th>\n      <th></th>\n      <th></th>\n      <th></th>\n      <th></th>\n      <th></th>\n      <th></th>\n      <th></th>\n      <th></th>\n      <th></th>\n      <th></th>\n      <th></th>\n      <th></th>\n      <th></th>\n      <th></th>\n      <th></th>\n      <th></th>\n      <th></th>\n      <th></th>\n    </tr>\n  </thead>\n  <tbody>\n    <tr>\n      <th rowspan=\"2\" valign=\"top\">não</th>\n      <th>B</th>\n      <td>8.666667</td>\n      <td>9.500000</td>\n      <td>96.000000</td>\n      <td>NaN</td>\n      <td>106.666667</td>\n      <td>86.666667</td>\n      <td>118.000000</td>\n      <td>67.818981</td>\n      <td>97.971673</td>\n      <td>89.428346</td>\n      <td>...</td>\n      <td>1950.366667</td>\n      <td>1771.600000</td>\n      <td>0.333333</td>\n      <td>0.000000</td>\n      <td>17.000000</td>\n      <td>19.000000</td>\n      <td>2953.766667</td>\n      <td>2475.800000</td>\n      <td>0.666667</td>\n      <td>0.500000</td>\n    </tr>\n    <tr>\n      <th>M</th>\n      <td>8.000000</td>\n      <td>9.000000</td>\n      <td>78.500000</td>\n      <td>NaN</td>\n      <td>195.666667</td>\n      <td>159.000000</td>\n      <td>190.000000</td>\n      <td>36.219501</td>\n      <td>67.353571</td>\n      <td>49.745685</td>\n      <td>...</td>\n      <td>4187.350000</td>\n      <td>3272.125000</td>\n      <td>0.000000</td>\n      <td>0.000000</td>\n      <td>5.000000</td>\n      <td>15.000000</td>\n      <td>3324.050000</td>\n      <td>3645.200000</td>\n      <td>4.000000</td>\n      <td>1.500000</td>\n    </tr>\n    <tr>\n      <th rowspan=\"3\" valign=\"top\">sim</th>\n      <th>B</th>\n      <td>8.631579</td>\n      <td>9.125000</td>\n      <td>101.555556</td>\n      <td>NaN</td>\n      <td>71.882353</td>\n      <td>75.294118</td>\n      <td>101.928571</td>\n      <td>86.819228</td>\n      <td>118.763515</td>\n      <td>117.044939</td>\n      <td>...</td>\n      <td>1924.086842</td>\n      <td>1745.690000</td>\n      <td>0.421053</td>\n      <td>0.133333</td>\n      <td>18.368421</td>\n      <td>18.866667</td>\n      <td>2713.052632</td>\n      <td>2644.640000</td>\n      <td>0.631579</td>\n      <td>0.466667</td>\n    </tr>\n    <tr>\n      <th>M</th>\n      <td>8.560000</td>\n      <td>9.315789</td>\n      <td>93.636364</td>\n      <td>NaN</td>\n      <td>148.739130</td>\n      <td>145.347826</td>\n      <td>142.047619</td>\n      <td>45.717378</td>\n      <td>62.588992</td>\n      <td>71.854308</td>\n      <td>...</td>\n      <td>2912.546154</td>\n      <td>2643.767391</td>\n      <td>1.153846</td>\n      <td>0.913043</td>\n      <td>14.153846</td>\n      <td>16.434783</td>\n      <td>3359.121154</td>\n      <td>3520.371739</td>\n      <td>2.307692</td>\n      <td>1.083333</td>\n    </tr>\n    <tr>\n      <th>R</th>\n      <td>8.833333</td>\n      <td>9.444444</td>\n      <td>105.625000</td>\n      <td>NaN</td>\n      <td>111.090909</td>\n      <td>112.166667</td>\n      <td>115.363636</td>\n      <td>53.709323</td>\n      <td>80.903550</td>\n      <td>85.062504</td>\n      <td>...</td>\n      <td>2530.190909</td>\n      <td>2036.195455</td>\n      <td>0.272727</td>\n      <td>1.000000</td>\n      <td>18.090909</td>\n      <td>17.272727</td>\n      <td>3244.031818</td>\n      <td>2907.454545</td>\n      <td>0.636364</td>\n      <td>0.818182</td>\n    </tr>\n  </tbody>\n</table>\n<p>5 rows × 56 columns</p>\n</div>"
     },
     "metadata": {},
     "execution_count": 20
    }
   ],
   "source": [
    "dfFmriSchools = dfFmriSchools.rename(columns={'Unnamed: 3':'Sexo', 'Unnamed: 4': 'age_2015', 'Unnamed: 5': 'age_2016', 'Unnamed: 6': 'QI', 'Unnamed: 7':'SES'})\n",
    "dfFmriSchools['Tarefa fMRI - PALAVRAS E PSEUDO']['Funcional Usável?'][2015].value_counts()\n",
    "dfFmriSchools['Tarefa fMRI - PALAVRAS E PSEUDO']['Funcional Usável?'][2016].value_counts()\n",
    "#SCHB são bons leitores, os SCHM são maus leitores e os SCHR são os leitores regulares\n",
    "\n",
    "dfFmriSchools['categoria']  = ' '\n",
    "for index, row in dfFmriSchools.iterrows():\n",
    "    primeiraLetra = row['fMRI participant #']['Unnamed: 0_level_1']['Unnamed: 0_level_2'][0]\n",
    "    dfFmriSchools.loc[index,['categoria']] = primeiraLetra\n",
    "\n",
    "dfFmriSchools['categoria'].value_counts()\n",
    "dfFmriSchools['fmri_utilizavel_2015'] = dfFmriSchools['Tarefa fMRI - PALAVRAS E PSEUDO']['Funcional Usável?'][2015]\n",
    "dfFmriSchools.groupby(['fmri_utilizavel_2015', 'categoria']).mean()"
   ]
  }
 ],
 "metadata": {
  "kernelspec": {
   "display_name": "Python 3",
   "language": "python",
   "name": "python3"
  },
  "language_info": {
   "codemirror_mode": {
    "name": "ipython",
    "version": 3
   },
   "file_extension": ".py",
   "mimetype": "text/x-python",
   "name": "python",
   "nbconvert_exporter": "python",
   "pygments_lexer": "ipython3",
   "version": "2.7.17"
  }
 },
 "nbformat": 4,
 "nbformat_minor": 4
}